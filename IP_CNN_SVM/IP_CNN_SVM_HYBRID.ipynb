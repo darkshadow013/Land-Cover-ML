{
  "nbformat": 4,
  "nbformat_minor": 0,
  "metadata": {
    "colab": {
      "name": "IP_CNN_SVM_HYBRID.ipynb",
      "provenance": [],
      "collapsed_sections": [],
      "machine_shape": "hm"
    },
    "kernelspec": {
      "display_name": "Python 3.7.6 64-bit ('anaconda3': virtualenv)",
      "language": "python",
      "name": "python37664bitanaconda3virtualenvcacf493e55cf476198af34145e193de0"
    },
    "language_info": {
      "codemirror_mode": {
        "name": "ipython",
        "version": 3
      },
      "file_extension": ".py",
      "mimetype": "text/x-python",
      "name": "python",
      "nbconvert_exporter": "python",
      "pygments_lexer": "ipython3",
      "version": "3.7.6"
    }
  },
  "cells": [
    {
      "cell_type": "markdown",
      "metadata": {
        "id": "hWtax_9_pBnW"
      },
      "source": [
        "# **This project is done on Google Colab**\n",
        "### **Note :- To run this project on platform other than colab change the directories locations in this project**"
      ]
    },
    {
      "cell_type": "markdown",
      "metadata": {
        "id": "aVyhJqGQpBnc"
      },
      "source": [
        "# **1. Load the data from Github**"
      ]
    },
    {
      "cell_type": "code",
      "metadata": {
        "colab": {
          "base_uri": "https://localhost:8080/"
        },
        "id": "BugsGopKzZZ4",
        "outputId": "b8e6e547-7282-4127-a39c-80a7355f1d79"
      },
      "source": [
        "!git clone -l -s git://github.com/darkshadow013/Land-cover-ML himanshu-garg\n",
        "%cd himanshu-garg\n",
        "!ls"
      ],
      "execution_count": null,
      "outputs": [
        {
          "output_type": "stream",
          "text": [
            "Cloning into 'himanshu-garg'...\n",
            "warning: --local is ignored\n",
            "remote: Enumerating objects: 52, done.\u001b[K\n",
            "remote: Counting objects: 100% (52/52), done.\u001b[K\n",
            "remote: Compressing objects: 100% (49/49), done.\u001b[K\n",
            "remote: Total 52 (delta 9), reused 0 (delta 0), pack-reused 0\u001b[K\n",
            "Receiving objects: 100% (52/52), 22.01 MiB | 14.51 MiB/s, done.\n",
            "Resolving deltas: 100% (9/9), done.\n",
            "/content/himanshu-garg\n",
            "'Akshay poriya'\t\t\t  IP_CNN_SVM_BEST.sav\n",
            " Data\t\t\t\t  IP_SVM_BEST.sav\n",
            " INDIAN_PINES_CNN_TRY\t\t  parameters.py\n",
            " INDIAN_PINES_SVM_TRY\t\t  project_assessment_report.docx\n",
            " IP_CNN_samples3200_epoch200.h5   README.md\n",
            " IP_CNN_SVM\t\t\t 'Report land cover - Copy.docx'\n"
          ],
          "name": "stdout"
        }
      ]
    },
    {
      "cell_type": "markdown",
      "metadata": {
        "id": "oTdJVc_upBn9"
      },
      "source": [
        "# **2. Data Pre-processing**"
      ]
    },
    {
      "cell_type": "code",
      "metadata": {
        "colab": {
          "base_uri": "https://localhost:8080/"
        },
        "id": "yDhs8uHUz47r",
        "outputId": "a22b96e4-007c-4010-9698-34580de3b855"
      },
      "source": [
        "# Import the necessary libraries\n",
        "!pip install spectral\n",
        "from spectral import *\n",
        "import scipy\n",
        "import scipy.io as sio\n",
        "import scipy.ndimage\n",
        "from sklearn.model_selection import train_test_split, StratifiedShuffleSplit\n",
        "from sklearn import preprocessing\n",
        "from sklearn.metrics import classification_report, confusion_matrix, accuracy_score\n",
        "from sklearn.decomposition import PCA\n",
        "from skimage.transform import rotate\n",
        "#from spectral import *\n",
        "from keras.models import Sequential, load_model\n",
        "from keras.layers import Dense, Dropout, Flatten, Conv2D, MaxPooling2D\n",
        "from keras.optimizers import SGD\n",
        "from keras.callbacks import ReduceLROnPlateau, ModelCheckpoint\n",
        "from keras import backend as K\n",
        "from keras.utils import np_utils\n",
        "import itertools\n",
        "import os\n",
        "import random\n",
        "from random import shuffle\n",
        "import numpy as np\n",
        "import matplotlib.pyplot as plt\n",
        "from sklearn.svm import SVC\n",
        "from sklearn.model_selection import GridSearchCV\n",
        "import parameters as p\n",
        "import pickle"
      ],
      "execution_count": null,
      "outputs": [
        {
          "output_type": "stream",
          "text": [
            "Collecting spectral\n",
            "\u001b[?25l  Downloading https://files.pythonhosted.org/packages/4f/9b/db2e160f891441b2f576e31caaa93c283ce5f82d625173830abd7ab3cbc3/spectral-0.22.2.tar.gz (184kB)\n",
            "\r\u001b[K     |█▉                              | 10kB 15.0MB/s eta 0:00:01\r\u001b[K     |███▋                            | 20kB 21.0MB/s eta 0:00:01\r\u001b[K     |█████▍                          | 30kB 10.4MB/s eta 0:00:01\r\u001b[K     |███████▏                        | 40kB 8.3MB/s eta 0:00:01\r\u001b[K     |█████████                       | 51kB 4.1MB/s eta 0:00:01\r\u001b[K     |██████████▊                     | 61kB 4.8MB/s eta 0:00:01\r\u001b[K     |████████████▌                   | 71kB 4.9MB/s eta 0:00:01\r\u001b[K     |██████████████▎                 | 81kB 5.2MB/s eta 0:00:01\r\u001b[K     |████████████████                | 92kB 5.7MB/s eta 0:00:01\r\u001b[K     |█████████████████▉              | 102kB 5.7MB/s eta 0:00:01\r\u001b[K     |███████████████████▋            | 112kB 5.7MB/s eta 0:00:01\r\u001b[K     |█████████████████████▍          | 122kB 5.7MB/s eta 0:00:01\r\u001b[K     |███████████████████████▏        | 133kB 5.7MB/s eta 0:00:01\r\u001b[K     |█████████████████████████       | 143kB 5.7MB/s eta 0:00:01\r\u001b[K     |██████████████████████████▊     | 153kB 5.7MB/s eta 0:00:01\r\u001b[K     |████████████████████████████▌   | 163kB 5.7MB/s eta 0:00:01\r\u001b[K     |██████████████████████████████▎ | 174kB 5.7MB/s eta 0:00:01\r\u001b[K     |████████████████████████████████| 184kB 5.7MB/s \n",
            "\u001b[?25hRequirement already satisfied: numpy in /usr/local/lib/python3.7/dist-packages (from spectral) (1.19.5)\n",
            "Building wheels for collected packages: spectral\n",
            "  Building wheel for spectral (setup.py) ... \u001b[?25l\u001b[?25hdone\n",
            "  Created wheel for spectral: filename=spectral-0.22.2-cp37-none-any.whl size=212938 sha256=86b0004378a46debce44d61c27bcee553e36155a764cd9795ea737508244e2af\n",
            "  Stored in directory: /root/.cache/pip/wheels/fb/00/da/ac778d1ab6e196cb7f56d104d4dfdfc0aad4e2b208275c0726\n",
            "Successfully built spectral\n",
            "Installing collected packages: spectral\n",
            "Successfully installed spectral-0.22.2\n"
          ],
          "name": "stdout"
        }
      ]
    },
    {
      "cell_type": "code",
      "metadata": {
        "id": "Rr1mT_zZS4qt"
      },
      "source": [
        "#Files_CNN is used to store the reports of this project\n",
        "if not os.path.exists('/content/Files_CNN'):\n",
        "    os.makedirs('/content/Files_CNN')"
      ],
      "execution_count": null,
      "outputs": []
    },
    {
      "cell_type": "code",
      "metadata": {
        "id": "IRu1hmUzz6V3"
      },
      "source": [
        "mat_x = sio.loadmat('/content/himanshu-garg/Data/Indian_pines_corrected.mat')['indian_pines_corrected']        # shape 145*145*220\n",
        "mat_y = sio.loadmat('/content/himanshu-garg/Data/Indian_pines_gt.mat')['indian_pines_gt']                      # shape 145*145"
      ],
      "execution_count": null,
      "outputs": []
    },
    {
      "cell_type": "code",
      "metadata": {
        "id": "9eA1ESnWz8xI"
      },
      "source": [
        "h, w, b = p.h, p.w, p.b           # height,width and band of image\n",
        "patch_size = p.patch_size                        # patch size (window size)\n",
        "oversampling = p.oversampling               # Turn true to make distribution of samples across various classes to be uniform\n",
        "no_of_patch = p.no_of_patch                # if oversampling is true enter no of patches for each class\n",
        "\n",
        "target_names = ['Alfalfa', 'Corn-notill', 'Corn-mintill', 'Corn'\n",
        "           ,'Grass-pasture', 'Grass-trees', 'Grass-pasture-mowed', \n",
        "            'Hay-windrowed', 'Oats', 'Soybean-notill', 'Soybean-mintill',\n",
        "           'Soybean-clean', 'Wheat', 'Woods', 'Buildings-Grass-Trees-Drives',\n",
        "           'Stone-Steel-Towers']"
      ],
      "execution_count": null,
      "outputs": []
    },
    {
      "cell_type": "code",
      "metadata": {
        "id": "RfMWle2I0Bmd"
      },
      "source": [
        "x_np, y_np = np.array(mat_x), np.array(mat_y)\n",
        "x, y = x_np.reshape(h,w,b), y_np.reshape(h,w)       # x and y are equal to x_np and y_np"
      ],
      "execution_count": null,
      "outputs": []
    },
    {
      "cell_type": "code",
      "metadata": {
        "id": "AHJkYg5XpBo7"
      },
      "source": [
        "def normalize_x(x):\n",
        "    x = x.astype(float)\n",
        "    for i in range(b):\n",
        "      x[:,:,i] = x[:,:,i]/np.max(x[:,:,i])\n",
        "    return x"
      ],
      "execution_count": null,
      "outputs": []
    },
    {
      "cell_type": "code",
      "metadata": {
        "id": "YR5cCBJBpBpG"
      },
      "source": [
        "def create_padded_x(x,patch_size):\n",
        "    pad_width = int( (patch_size-1)/2 )\n",
        "    padded_x = np.pad(x,[(pad_width,pad_width),(pad_width,pad_width),(0,0)],'edge')\n",
        "    return padded_x"
      ],
      "execution_count": null,
      "outputs": []
    },
    {
      "cell_type": "code",
      "metadata": {
        "id": "_JBCT0Jj0F-a"
      },
      "source": [
        "x=normalize_x(x)"
      ],
      "execution_count": null,
      "outputs": []
    },
    {
      "cell_type": "code",
      "metadata": {
        "id": "cdMi7ZYt0Hss"
      },
      "source": [
        "padded_x=create_padded_x(x,patch_size)"
      ],
      "execution_count": null,
      "outputs": []
    },
    {
      "cell_type": "code",
      "metadata": {
        "id": "tzUhzxPg0MVk"
      },
      "source": [
        "def ground_truth_patches_labels(h,w,padded_x,patch_size):\n",
        "    X,Y = [],[]\n",
        "    for i in range(h):\n",
        "      for j in range(w):\n",
        "        if(y[i][j]!= 0):\n",
        "          patch = padded_x[i:i+patch_size,j:j+patch_size,:]\n",
        "          X.append(patch)\n",
        "          Y.append(y[i][j]-1)\n",
        "    return X,Y"
      ],
      "execution_count": null,
      "outputs": []
    },
    {
      "cell_type": "code",
      "metadata": {
        "id": "_vhTK1BBpBps"
      },
      "source": [
        "X,Y=ground_truth_patches_labels(h,w,padded_x,patch_size)"
      ],
      "execution_count": null,
      "outputs": []
    },
    {
      "cell_type": "code",
      "metadata": {
        "id": "YkDOhppU0NC1"
      },
      "source": [
        "x_train, x_test, y_train, y_test = train_test_split( X,Y, test_size=0.25,stratify=Y, random_state=10)"
      ],
      "execution_count": null,
      "outputs": []
    },
    {
      "cell_type": "code",
      "metadata": {
        "colab": {
          "base_uri": "https://localhost:8080/",
          "height": 335
        },
        "id": "udFblJOt0RlL",
        "outputId": "a80c2535-4408-4489-b270-fb73ab5b9b79"
      },
      "source": [
        "u_c = np.unique(y_train,return_counts=True)\n",
        "print(u_c)\n",
        "plt.bar( u_c[0],u_c[1], align='center', alpha=0.5)\n",
        "plt.title('Distribution of samples before resampling')\n",
        "plt.show()"
      ],
      "execution_count": null,
      "outputs": [
        {
          "output_type": "stream",
          "text": [
            "(array([ 0,  1,  2,  3,  4,  5,  6,  7,  8,  9, 10, 11, 12, 13, 14, 15]), array([  35, 1071,  622,  178,  362,  547,   21,  358,   15,  729, 1841,\n",
            "        445,  154,  949,  289,   70]))\n"
          ],
          "name": "stdout"
        },
        {
          "output_type": "display_data",
          "data": {
            "image/png": "[encoded data removed]",
            "text/plain": [
              "<Figure size 432x288 with 1 Axes>"
            ]
          },
          "metadata": {
            "tags": [],
            "needs_background": "light"
          }
        }
      ]
    },
    {
      "cell_type": "code",
      "metadata": {
        "colab": {
          "base_uri": "https://localhost:8080/",
          "height": 335
        },
        "id": "TtwTrtP90SMV",
        "outputId": "ba1d15cb-2a2d-4df3-c8b1-f990868ec4b7"
      },
      "source": [
        "output_classes = len(np.unique(y_np))-1\n",
        "classes = []\n",
        "if(oversampling):\n",
        "    for i in range(output_classes):\n",
        "        classes.append([])\n",
        "        \n",
        "    for i in range(len(y_train)):\n",
        "        classes[y_train[i]].append(x_train[i])\n",
        "        \n",
        "    for c in range(output_classes):\n",
        "        temp = classes[c]\n",
        "        for i in range( int( no_of_patch / len(classes[c]) ) ):\n",
        "            classes[c]+=temp\n",
        "        shuffle(classes[c])\n",
        "        classes[c] = classes[c][0:no_of_patch]\n",
        "        \n",
        "    x_train,y_train = [],[]\n",
        "    for c in range(output_classes):\n",
        "        x_train.extend( classes[c] )\n",
        "        for i in range(len(classes[c])):\n",
        "            y_train.append(c)\n",
        "            \n",
        "    randomize = np.arange(len(x_train))\n",
        "    np.random.shuffle(randomize)\n",
        "    x_train = [x_train[i] for i in randomize]\n",
        "    y_train = [y_train[i] for i in randomize]\n",
        "    \n",
        "    u_c = np.unique(y_train,return_counts=True)\n",
        "    print(u_c)\n",
        "    plt.bar( u_c[0],u_c[1], align='center', alpha=0.5)\n",
        "    plt.title('Distribution of samples after resampling')\n",
        "    plt.show()"
      ],
      "execution_count": null,
      "outputs": [
        {
          "output_type": "stream",
          "text": [
            "(array([ 0,  1,  2,  3,  4,  5,  6,  7,  8,  9, 10, 11, 12, 13, 14, 15]), array([200, 200, 200, 200, 200, 200, 200, 200, 200, 200, 200, 200, 200,\n",
            "       200, 200, 200]))\n"
          ],
          "name": "stdout"
        },
        {
          "output_type": "display_data",
          "data": {
            "image/png": "[encoded data removed]",
            "text/plain": [
              "<Figure size 432x288 with 1 Axes>"
            ]
          },
          "metadata": {
            "tags": [],
            "needs_background": "light"
          }
        }
      ]
    },
    {
      "cell_type": "code",
      "metadata": {
        "id": "MdyIkzBF0Z62"
      },
      "source": [
        "x_train,x_test,y_train,y_test= np.array(x_train),np.array(x_test),np.array(y_train),np.array(y_test)"
      ],
      "execution_count": null,
      "outputs": []
    },
    {
      "cell_type": "markdown",
      "metadata": {
        "id": "MvXi6FsHpBqX"
      },
      "source": [
        "# **3. Build and train CNN model on DATASET**"
      ]
    },
    {
      "cell_type": "code",
      "metadata": {
        "id": "WWvR6V2u00cK"
      },
      "source": [
        "CONV_1_CHANNELS = p.CONV_1_CHANNELS\n",
        "CONV_2_CHANNELS = p.CONV_2_CHANNELS\n",
        "FC_1_UNITS = 200\n",
        "FC_2_UNITS = 84\n",
        "FC_3_UNITS = 16\n",
        "\n",
        "#Kernel Sizes\n",
        "CONV_K_S = 5\n",
        "POOL_K_S = 2\n",
        "\n",
        "STRIDES = 2\n",
        "# Before x_train.shape= {number,height,width,bands}\n",
        "# Aftet x_train.shape= {number,bands,height,width}\n",
        "x_train = np.reshape(x_train, (x_train.shape[0], x_train.shape[3], \n",
        "                               x_train.shape[1], x_train.shape[2]))\n",
        "x_test = np.reshape(x_test, (x_test.shape[0],x_test.shape[3], \n",
        "                             x_test.shape[1], x_test.shape[2]))\n",
        "p1=y_train\n",
        "q1=y_test\n",
        "y_train = np_utils.to_categorical(y_train)\n",
        "y_test = np_utils.to_categorical(y_test)\n",
        "a1=x_test\n",
        "b1=y_test"
      ],
      "execution_count": null,
      "outputs": []
    },
    {
      "cell_type": "code",
      "metadata": {
        "id": "PzzhsACiPS8Z"
      },
      "source": [
        "input_shape= x_train[0].shape"
      ],
      "execution_count": null,
      "outputs": []
    },
    {
      "cell_type": "code",
      "metadata": {
        "id": "76its6SG1XIi"
      },
      "source": [
        "# Define the model structure\n",
        "model = Sequential()\n",
        "model.add(Conv2D(500, (3,3) , activation='relu', input_shape=input_shape, strides = STRIDES, padding = 'same'))\n",
        "model.add(MaxPooling2D(pool_size = POOL_K_S, padding = 'same', strides = STRIDES))\n",
        "model.add(Conv2D(100, (3,3) , activation='relu',strides = STRIDES, padding = 'same'))\n",
        "model.add(MaxPooling2D(pool_size = POOL_K_S, padding = 'same', strides = STRIDES))\n",
        "model.add(Flatten())\n",
        "model.add(Dense(200, activation='relu'))\n",
        "model.add(Dense(84, activation='relu'))\n",
        "model.add(Dense(16,activation='softmax'))"
      ],
      "execution_count": null,
      "outputs": []
    },
    {
      "cell_type": "code",
      "metadata": {
        "id": "f-kcgcIVCUUW"
      },
      "source": [
        "reduce_lr = ReduceLROnPlateau(monitor='val_acc', factor=0.9, patience=25, \n",
        "                              min_lr=0.000001, verbose=1)\n",
        "checkpointer = ModelCheckpoint(filepath=\"checkpoint.hdf5\", verbose=1, \n",
        "                              save_best_only=True)\n",
        "sgd = SGD(lr=0.001, decay=1e-6, momentum=0.9, nesterov=True)\n",
        "model.compile(loss='categorical_crossentropy', optimizer=sgd, \n",
        "                              metrics=['accuracy'])"
      ],
      "execution_count": null,
      "outputs": []
    },
    {
      "cell_type": "code",
      "metadata": {
        "colab": {
          "base_uri": "https://localhost:8080/",
          "height": 976
        },
        "id": "5lZhjIIJ1YNe",
        "outputId": "05b2ab7b-d38b-4378-95a0-6070b36a110c"
      },
      "source": [
        "from keras.utils import plot_model\n",
        "plot_model(model, to_file='/content/Files_CNN/CNN_model.png', show_shapes=True)"
      ],
      "execution_count": null,
      "outputs": [
        {
          "output_type": "execute_result",
          "data": {
            "image/png": "[encoded data removed]",
            "text/plain": [
              "<IPython.core.display.Image object>"
            ]
          },
          "metadata": {
            "tags": []
          },
          "execution_count": 21
        }
      ]
    },
    {
      "cell_type": "code",
      "metadata": {
        "colab": {
          "base_uri": "https://localhost:8080/"
        },
        "id": "8lz5QNCoWryk",
        "outputId": "72246ca7-a1fe-4e0d-dc80-939b883c9981"
      },
      "source": [
        "if(os.path.exists('/content/himanshu-garg/IP_CNN_samples3200_epoch200.h5')):\n",
        "    # load the model architecture and weights\n",
        "    model.load_weights(\"/content/himanshu-garg/IP_CNN_samples3200_epoch200.h5\")\n",
        "else:\n",
        "    # Start to train model \n",
        "    history = model.fit(x_train, y_train, \n",
        "                        batch_size=32, \n",
        "                        epochs=200, \n",
        "                        verbose=1, \n",
        "                        validation_data=(x_test, y_test),\n",
        "                        callbacks=[reduce_lr, checkpointer],\n",
        "                        shuffle=True)\n",
        "    # save the model with h5py\n",
        "    import h5py\n",
        "    model.save('/content/himanshu-garg/IP_CNN_samples3200_epoch200.h5')\n",
        "\n",
        "for l in range(len(model.layers)):\n",
        "    print(l, model.layers[l])"
      ],
      "execution_count": null,
      "outputs": [
        {
          "output_type": "stream",
          "text": [
            "0 <tensorflow.python.keras.layers.convolutional.Conv2D object at 0x7f408326c8d0>\n",
            "1 <tensorflow.python.keras.layers.pooling.MaxPooling2D object at 0x7f4083329b90>\n",
            "2 <tensorflow.python.keras.layers.convolutional.Conv2D object at 0x7f408327d950>\n",
            "3 <tensorflow.python.keras.layers.pooling.MaxPooling2D object at 0x7f407d271d50>\n",
            "4 <tensorflow.python.keras.layers.core.Flatten object at 0x7f4083329750>\n",
            "5 <tensorflow.python.keras.layers.core.Dense object at 0x7f407d27ab90>\n",
            "6 <tensorflow.python.keras.layers.core.Dense object at 0x7f407d27ff90>\n",
            "7 <tensorflow.python.keras.layers.core.Dense object at 0x7f407d290c50>\n"
          ],
          "name": "stdout"
        }
      ]
    },
    {
      "cell_type": "markdown",
      "metadata": {
        "id": "JBJeaGzYpBrD"
      },
      "source": [
        "# **4. Feature Extraction from second last layer of CNN**"
      ]
    },
    {
      "cell_type": "code",
      "metadata": {
        "colab": {
          "base_uri": "https://localhost:8080/"
        },
        "id": "RR2nGstWrmQF",
        "outputId": "fd20496f-ac46-404e-c20d-605a17ec91ef"
      },
      "source": [
        "model.layers[0].input"
      ],
      "execution_count": null,
      "outputs": [
        {
          "output_type": "execute_result",
          "data": {
            "text/plain": [
              "<KerasTensor: shape=(None, 200, 5, 5) dtype=float32 (created by layer 'conv2d_input')>"
            ]
          },
          "metadata": {
            "tags": []
          },
          "execution_count": 24
        }
      ]
    },
    {
      "cell_type": "code",
      "metadata": {
        "id": "5ocAUKv0h5G6"
      },
      "source": [
        "# feature extraction layer\n",
        "getFeature = K.function([model.layers[0].input],\n",
        "                        [model.layers[6].output])\n",
        "# classification layer\n",
        "#getPrediction = K.function([model.layers[7].input],\n",
        "#                           [model.layers[7].output])"
      ],
      "execution_count": 29,
      "outputs": []
    },
    {
      "cell_type": "code",
      "metadata": {
        "id": "tKn_SBEuiNvw"
      },
      "source": [
        "exTrain3000 = getFeature([x_train])[0]\n",
        "exTest1000 = getFeature([x_test])[0]"
      ],
      "execution_count": 31,
      "outputs": []
    },
    {
      "cell_type": "code",
      "metadata": {
        "id": "DDx7FoMljGcu"
      },
      "source": [
        "y_train=p1\n",
        "y_test=q1\n",
        "y_train3000 = y_train\n",
        "y_test1000 = y_test"
      ],
      "execution_count": 32,
      "outputs": []
    },
    {
      "cell_type": "code",
      "metadata": {
        "colab": {
          "base_uri": "https://localhost:8080/"
        },
        "id": "9c-uUjN3knSO",
        "outputId": "78c98cc2-3cd4-46b7-c16d-ccf0d5b24a58"
      },
      "source": [
        "print(exTrain3000.shape, exTest1000.shape, y_train3000.shape, y_test1000.shape)"
      ],
      "execution_count": 33,
      "outputs": [
        {
          "output_type": "stream",
          "text": [
            "(3200, 84) (2563, 84) (3200,) (2563,)\n"
          ],
          "name": "stdout"
        }
      ]
    },
    {
      "cell_type": "markdown",
      "metadata": {
        "id": "fDS-twf8pBrj"
      },
      "source": [
        "# **5. Build and Train SVM based on Features from CNN**"
      ]
    },
    {
      "cell_type": "code",
      "metadata": {
        "id": "SAIIFaFpkEf5"
      },
      "source": [
        "if(os.path.exists('/content/himanshu-garg/IP_CNN_SVM_BEST.sav')):\n",
        "    # load the model \n",
        "    filename = '/content/himanshu-garg/IP_CNN_SVM_BEST.sav'\n",
        "    svmclf = pickle.load(open(filename, 'rb'))\n",
        "else:\n",
        "    C = [0.01, 0.03, 0.1, 0.3, 1, 3, 10, 30]\n",
        "    sigma = [0.01, 0.03, 0.1, 0.3, 1, 3, 10, 30]\n",
        "    gamma=[]\n",
        "    for i in range(0,len(sigma)):\n",
        "        gamma.append((1/(2 * sigma[i]**2)))\n",
        "    \"\"\"parameters = {'kernel':['rbf'], \n",
        "                  'C':C,\n",
        "                  'gamma':gamma}\"\"\"\n",
        "    parameters = {'kernel':['rbf'], \n",
        "                  'C':[30],\n",
        "                  'gamma':[0.005]}\n",
        "    clf = GridSearchCV(SVC(), parameters)\n",
        "    clf.fit(exTrain3000, y_train3000)\n",
        "    #By this we obtain optimal C=30, gamma=0.005\n",
        "\n",
        "    svmclf = clf.best_estimator_\n",
        "    svmclf.fit(exTrain3000, y_train3000)\n",
        "\n",
        "    filename = '/content/himanshu-garg/IP_CNN_SVM_BEST.sav'\n",
        "    pickle.dump(svmclf, open(filename, 'wb'))"
      ],
      "execution_count": 34,
      "outputs": []
    },
    {
      "cell_type": "markdown",
      "metadata": {
        "id": "SQl-4sXspBr2"
      },
      "source": [
        "# **6. Save the reports**"
      ]
    },
    {
      "cell_type": "code",
      "metadata": {
        "id": "20_SZH-PpBr3"
      },
      "source": [
        "def save_report_of_CNN_on_test_samples(y_test,test_accuracy):\n",
        "    file_name = \"/content/Files_CNN/Report_cnn_on_TEST_SAMPLES.txt\"\n",
        "    with open(file_name, 'w') as x_file:\n",
        "        x_file.write('Number of Test Samples : {} '.format(y_test.shape[0]))\n",
        "        x_file.write('\\n')\n",
        "        x_file.write('Test accuracy : {} (%)'.format(test_accuracy))"
      ],
      "execution_count": 35,
      "outputs": []
    },
    {
      "cell_type": "code",
      "metadata": {
        "id": "c_sjmfaUpBr_"
      },
      "source": [
        "def save_report_of_CNN_SVM_on_train_samples(y_train3000,train_accuracy,classification,confusion):\n",
        "    file_name = \"/content/Files_CNN/Report_cnn_svm_on_TRAIN_SAMPLES.txt\"\n",
        "    with open(file_name, 'w') as x_file:\n",
        "        x_file.write('Number of train Samples : {} '.format(y_train3000.shape[0]))\n",
        "        x_file.write('\\n')\n",
        "        x_file.write('Train accuracy : {} (%)'.format(train_accuracy))\n",
        "        x_file.write('\\n')\n",
        "        x_file.write('\\n')\n",
        "        x_file.write(\"Classification result: \\n\")\n",
        "        x_file.write('{}'.format(classification))\n",
        "        x_file.write('\\n')\n",
        "        x_file.write(\" confusion matrix: \\n\")\n",
        "        x_file.write('{}'.format(confusion))"
      ],
      "execution_count": 36,
      "outputs": []
    },
    {
      "cell_type": "code",
      "metadata": {
        "id": "efvuQmLfpBsF"
      },
      "source": [
        "def save_report_of_CNN_SVM_on_test_samples(y_test1000,Test_accuracy,classification,confusion):\n",
        "    file_name = \"/content/Files_CNN/Report_cnn_svm_on_TEST_SAMPLES.txt\"\n",
        "    with open(file_name, 'w') as x_file:\n",
        "        x_file.write('Number of Test Samples : {} '.format(y_test1000.shape[0]))\n",
        "        x_file.write('\\n')\n",
        "        x_file.write('Test accuracy : {} (%)'.format(Test_accuracy))\n",
        "        x_file.write('\\n')\n",
        "        x_file.write('\\n')\n",
        "        x_file.write(\"Classification result: \\n\")\n",
        "        x_file.write('{}'.format(classification))\n",
        "        x_file.write('\\n')\n",
        "        x_file.write(\" confusion matrix: \\n\")\n",
        "        x_file.write('{}'.format(confusion))"
      ],
      "execution_count": 37,
      "outputs": []
    },
    {
      "cell_type": "code",
      "metadata": {
        "id": "dgu_mFKrpBsN"
      },
      "source": [
        "def save_overall_comparision_of_models(Y,h,w,y_train,y_test,test_accuracy,train_accuracy,Test_accuracy):\n",
        "    file_name = \"/content/Files_CNN/Overall_Accuracy_Comparision.txt\"\n",
        "    with open(file_name, 'w') as x_file:\n",
        "        x_file.write('\\n\\t1. Number of Pixels with Ground Truth: {} '.format(np.array(Y).shape[0]))\n",
        "        x_file.write('\\n\\n')\n",
        "        x_file.write('\\t2. Number of Pixels without Ground Truth: {} '.format(h*w - np.array(Y).shape[0]))\n",
        "        x_file.write('\\n\\n')\n",
        "        x_file.write('\\t3. Number of Train Samples : {} '.format(y_train.shape[0]))\n",
        "        x_file.write('\\n\\n')\n",
        "        x_file.write('\\t4. Number of Test Samples : {} '.format(y_test.shape[0]))\n",
        "        x_file.write('\\n\\n\\n\\n-----------------------------------------------------------------------OVERALL COMPARISION OF ACCURACY-----------------------------------------------------------------\\n\\n\\n\\n')\n",
        "        x_file.write('\\t1. Accuracy on Test Samples Using Only CNN :-  {} (%)'.format(test_accuracy))\n",
        "        x_file.write('\\n\\n')\n",
        "        x_file.write('\\t2. Accuracy on Test Samples Using Only SVM :-  {} (%)'.format(83.67479674796748))\n",
        "        x_file.write('\\n\\n')\n",
        "        x_file.write('\\t3. Accuracy on Train Samples Using CNN-SVM :-  {} (%)'.format(train_accuracy))\n",
        "        x_file.write('\\n\\n')\n",
        "        x_file.write('\\t4. Accuracy on Test Samples Using CNN-SVM :-  {} (%)'.format(Test_accuracy))\n"
      ],
      "execution_count": 38,
      "outputs": []
    },
    {
      "cell_type": "code",
      "metadata": {
        "id": "xAWbmxdQox_C"
      },
      "source": [
        "y_testSVM = svmclf.predict(exTest1000)\n",
        "confusion = confusion_matrix(y_test1000, y_testSVM)\n",
        "Test_accuracy=100*accuracy_score(y_test1000, y_testSVM) \n",
        "classification=classification_report(y_test1000, y_testSVM)\n",
        "\n",
        "save_report_of_CNN_SVM_on_test_samples(y_test1000,Test_accuracy,classification,confusion)"
      ],
      "execution_count": 39,
      "outputs": []
    },
    {
      "cell_type": "code",
      "metadata": {
        "id": "rsanQJ2cszeS"
      },
      "source": [
        "y_trainSVM = svmclf.predict(exTrain3000)\n",
        "confusion = confusion_matrix(y_train3000, y_trainSVM)\n",
        "train_accuracy=100*accuracy_score(y_train3000, y_trainSVM) \n",
        "classification=classification_report(y_train3000, y_trainSVM)\n",
        "\n",
        "save_report_of_CNN_SVM_on_train_samples(y_train3000,train_accuracy,classification,confusion)"
      ],
      "execution_count": 40,
      "outputs": []
    },
    {
      "cell_type": "code",
      "metadata": {
        "colab": {
          "base_uri": "https://localhost:8080/"
        },
        "id": "_aXbOWChuzoS",
        "outputId": "ddaed00e-96d5-4120-dced-b58092321700"
      },
      "source": [
        "model=load_model(\"/content/himanshu-garg/IP_CNN_samples3200_epoch200.h5\")\n",
        "score = model.evaluate(a1,b1, batch_size=32)\n",
        "Test_Loss = score[0]*100\n",
        "test_accuracy = score[1]*100"
      ],
      "execution_count": 41,
      "outputs": [
        {
          "output_type": "stream",
          "text": [
            "81/81 [==============================] - 2s 19ms/step - loss: 0.4639 - accuracy: 0.8549\n"
          ],
          "name": "stdout"
        }
      ]
    },
    {
      "cell_type": "code",
      "metadata": {
        "id": "gA5iDLsZPAv6"
      },
      "source": [
        "save_report_of_CNN_on_test_samples(y_test,test_accuracy)"
      ],
      "execution_count": 43,
      "outputs": []
    },
    {
      "cell_type": "code",
      "metadata": {
        "id": "IeciwkODQXS-"
      },
      "source": [
        "save_overall_comparision_of_models(Y,h,w,y_train,y_test,test_accuracy,train_accuracy,Test_accuracy)"
      ],
      "execution_count": 44,
      "outputs": []
    },
    {
      "cell_type": "markdown",
      "metadata": {
        "id": "G6c8DpjZX7K8"
      },
      "source": [
        "# **7. Generate Predicted Image**"
      ]
    },
    {
      "cell_type": "code",
      "metadata": {
        "id": "OMs7ZEBeNWfO"
      },
      "source": [
        "x_np, y_np = np.array(mat_x), np.array(mat_y)\n",
        "x, y = x_np.reshape(h,w,b), y_np.reshape(h,w)"
      ],
      "execution_count": 45,
      "outputs": []
    },
    {
      "cell_type": "code",
      "metadata": {
        "id": "MKlQMsouNxVF"
      },
      "source": [
        "x=normalize_x(x)"
      ],
      "execution_count": 46,
      "outputs": []
    },
    {
      "cell_type": "code",
      "metadata": {
        "id": "FmUFJjMeNx8h"
      },
      "source": [
        "padded_x=create_padded_x(x,patch_size)"
      ],
      "execution_count": 47,
      "outputs": []
    },
    {
      "cell_type": "code",
      "metadata": {
        "id": "Ws1eSU4OOSK4"
      },
      "source": [
        "X,Y=ground_truth_patches_labels(h,w,padded_x,patch_size)"
      ],
      "execution_count": 48,
      "outputs": []
    },
    {
      "cell_type": "code",
      "metadata": {
        "id": "k8Mg2q-YN2Cv"
      },
      "source": [
        "X=np.array(X)\n",
        "x_test = np.reshape(X, (X.shape[0],X.shape[3], \n",
        "                             X.shape[1], X.shape[2]))"
      ],
      "execution_count": 49,
      "outputs": []
    },
    {
      "cell_type": "code",
      "metadata": {
        "colab": {
          "base_uri": "https://localhost:8080/"
        },
        "id": "M8yFlxU1OpNU",
        "outputId": "e477d12d-1722-42d5-b5b2-285db035e14b"
      },
      "source": [
        "print(x_test.shape)"
      ],
      "execution_count": 50,
      "outputs": [
        {
          "output_type": "stream",
          "text": [
            "(10249, 200, 5, 5)\n"
          ],
          "name": "stdout"
        }
      ]
    },
    {
      "cell_type": "code",
      "metadata": {
        "id": "CJD7KYBQO3Vx"
      },
      "source": [
        "pred=[]\n",
        "for i in range(0,x_test.shape[0]):\n",
        "  x_TEST=x_test[i]\n",
        "  x_TEST=np.reshape(x_TEST,(1,x_test.shape[1],x_test.shape[2],x_test.shape[3]))\n",
        "  x_TEST = getFeature([x_TEST])[0]\n",
        "  pre=svmclf.predict(x_TEST)\n",
        "  pred.append(pre[0])"
      ],
      "execution_count": 52,
      "outputs": []
    },
    {
      "cell_type": "code",
      "metadata": {
        "id": "rWSHaWGXPCuQ"
      },
      "source": [
        "output=np.zeros((h,w))\n",
        "k=0\n",
        "for i in range(h):\n",
        "  for j in range(w):\n",
        "    if(y[i][j]!=0):\n",
        "      output[i][j]=pred[k]+1\n",
        "      k=k+1\n",
        "    else:\n",
        "      output[i][j]=y[i][j]\n"
      ],
      "execution_count": 53,
      "outputs": []
    },
    {
      "cell_type": "code",
      "metadata": {
        "colab": {
          "base_uri": "https://localhost:8080/",
          "height": 323
        },
        "id": "qg16JfcLSLwj",
        "outputId": "83da25f7-b997-4994-94c9-1d66005de5d9"
      },
      "source": [
        "ground_truth = imshow(classes = y,figsize =(5,5))"
      ],
      "execution_count": 54,
      "outputs": [
        {
          "output_type": "display_data",
          "data": {
            "image/png": "[encoded data removed]",
            "text/plain": [
              "<Figure size 360x360 with 1 Axes>"
            ]
          },
          "metadata": {
            "tags": [],
            "needs_background": "light"
          }
        }
      ]
    },
    {
      "cell_type": "code",
      "metadata": {
        "colab": {
          "base_uri": "https://localhost:8080/",
          "height": 323
        },
        "id": "8UWrRJXDPh5s",
        "outputId": "048c86cf-897b-4d0a-d4b3-dccdfaf7108c"
      },
      "source": [
        "predict_image = imshow(classes = output.astype(int),figsize =(5,5))"
      ],
      "execution_count": 55,
      "outputs": [
        {
          "output_type": "display_data",
          "data": {
            "image/png": "[encoded data removed]",
            "text/plain": [
              "<Figure size 360x360 with 1 Axes>"
            ]
          },
          "metadata": {
            "tags": [],
            "needs_background": "light"
          }
        }
      ]
    },
    {
      "cell_type": "code",
      "metadata": {
        "id": "ZrV-qJJDxsWn"
      },
      "source": [
        ""
      ],
      "execution_count": null,
      "outputs": []
    }
  ]
}
