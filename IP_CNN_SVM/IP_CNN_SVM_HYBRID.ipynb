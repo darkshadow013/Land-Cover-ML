{
 "cells": [
  {
   "cell_type": "markdown",
   "metadata": {
    "colab_type": "text",
    "id": "hWtax_9_pBnW"
   },
   "source": [
    "# **This project is done on Google Colab**\n",
    "### **Note :- To run this project on platform other than colab change the directories locations in this project**"
   ]
  },
  {
   "cell_type": "markdown",
   "metadata": {
    "colab_type": "text",
    "id": "aVyhJqGQpBnc"
   },
   "source": [
    "# **1. Load the data from Github**"
   ]
  },
  {
   "cell_type": "code",
   "execution_count": 119,
   "metadata": {
    "colab": {
     "base_uri": "https://localhost:8080/",
     "height": 204
    },
    "colab_type": "code",
    "id": "BugsGopKzZZ4",
    "outputId": "9023e8fa-cad8-4c6c-99b5-f3748b889ac1"
   },
   "outputs": [
    {
     "name": "stdout",
     "output_type": "stream",
     "text": [
      "Cloning into 'himanshu-garg'...\n",
      "warning: --local is ignored\n",
      "remote: Enumerating objects: 21, done.\u001b[K\n",
      "remote: Counting objects: 100% (21/21), done.\u001b[K\n",
      "remote: Compressing objects: 100% (19/19), done.\u001b[K\n",
      "remote: Total 21 (delta 3), reused 0 (delta 0), pack-reused 0\u001b[K\n",
      "Receiving objects: 100% (21/21), 16.33 MiB | 24.78 MiB/s, done.\n",
      "Resolving deltas: 100% (3/3), done.\n",
      "/content/himanshu-garg/himanshu-garg\n",
      "Data\t\t\t\tIP_CNN_SVM_BEST.sav  README.md\n",
      "IP_CNN_samples3200_epoch200.h5\tparameters.py\n"
     ]
    }
   ],
   "source": [
    "!git clone -l -s git://github.com/darkshadow013/Land-cover-ML himanshu-garg\n",
    "%cd himanshu-garg\n",
    "!ls"
   ]
  },
  {
   "cell_type": "markdown",
   "metadata": {
    "colab_type": "text",
    "id": "oTdJVc_upBn9"
   },
   "source": [
    "# **2. Data Pre-processing**"
   ]
  },
  {
   "cell_type": "code",
   "execution_count": null,
   "metadata": {
    "colab": {},
    "colab_type": "code",
    "id": "yDhs8uHUz47r"
   },
   "outputs": [],
   "source": [
    "# Import the necessary libraries\n",
    "!pip install spectral\n",
    "from spectral import *\n",
    "import scipy\n",
    "import scipy.io as sio\n",
    "import scipy.ndimage\n",
    "from sklearn.model_selection import train_test_split, StratifiedShuffleSplit\n",
    "from sklearn import preprocessing\n",
    "from sklearn.metrics import classification_report, confusion_matrix, accuracy_score\n",
    "from sklearn.decomposition import PCA\n",
    "from skimage.transform import rotate\n",
    "#from spectral import *\n",
    "from keras.models import Sequential, load_model\n",
    "from keras.layers import Dense, Dropout, Flatten, Conv2D, MaxPooling2D\n",
    "from keras.optimizers import SGD\n",
    "from keras.callbacks import ReduceLROnPlateau, ModelCheckpoint\n",
    "from keras import backend as K\n",
    "from keras.utils import np_utils\n",
    "import itertools\n",
    "import os\n",
    "import random\n",
    "from random import shuffle\n",
    "import numpy as np\n",
    "import matplotlib.pyplot as plt\n",
    "from sklearn.svm import SVC\n",
    "from sklearn.model_selection import GridSearchCV\n",
    "import parameters as p\n",
    "import pickle"
   ]
  },
  {
   "cell_type": "code",
   "execution_count": null,
   "metadata": {
    "colab": {},
    "colab_type": "code",
    "id": "Rr1mT_zZS4qt"
   },
   "outputs": [],
   "source": [
    "#Files_CNN is used to store the reports of this project\n",
    "if not os.path.exists('/content/Files_CNN'):\n",
    "    os.makedirs('/content/Files_CNN')"
   ]
  },
  {
   "cell_type": "code",
   "execution_count": null,
   "metadata": {
    "colab": {},
    "colab_type": "code",
    "id": "IRu1hmUzz6V3"
   },
   "outputs": [],
   "source": [
    "mat_x = sio.loadmat('/content/himanshu-garg/Data/Indian_pines_corrected.mat')['indian_pines_corrected']        # shape 145*145*220\n",
    "mat_y = sio.loadmat('/content/himanshu-garg/Data/Indian_pines_gt.mat')['indian_pines_gt']                      # shape 145*145"
   ]
  },
  {
   "cell_type": "code",
   "execution_count": null,
   "metadata": {
    "colab": {},
    "colab_type": "code",
    "id": "9eA1ESnWz8xI"
   },
   "outputs": [],
   "source": [
    "h, w, b = p.h, p.w, p.b           # height,width and band of image\n",
    "patch_size = p.patch_size                        # patch size (window size)\n",
    "oversampling = p.oversampling               # Turn true to make distribution of samples across various classes to be uniform\n",
    "no_of_patch = p.no_of_patch                # if oversampling is true enter no of patches for each class\n",
    "\n",
    "target_names = ['Alfalfa', 'Corn-notill', 'Corn-mintill', 'Corn'\n",
    "           ,'Grass-pasture', 'Grass-trees', 'Grass-pasture-mowed', \n",
    "            'Hay-windrowed', 'Oats', 'Soybean-notill', 'Soybean-mintill',\n",
    "           'Soybean-clean', 'Wheat', 'Woods', 'Buildings-Grass-Trees-Drives',\n",
    "           'Stone-Steel-Towers']"
   ]
  },
  {
   "cell_type": "code",
   "execution_count": null,
   "metadata": {
    "colab": {},
    "colab_type": "code",
    "id": "RfMWle2I0Bmd"
   },
   "outputs": [],
   "source": [
    "x_np, y_np = np.array(mat_x), np.array(mat_y)\n",
    "x, y = x_np.reshape(h,w,b), y_np.reshape(h,w)       # x and y are equal to x_np and y_np"
   ]
  },
  {
   "cell_type": "code",
   "execution_count": null,
   "metadata": {
    "colab": {},
    "colab_type": "code",
    "id": "AHJkYg5XpBo7"
   },
   "outputs": [],
   "source": [
    "def normalize_x(x):\n",
    "    x = x.astype(float)\n",
    "    for i in range(b):\n",
    "      x[:,:,i] = x[:,:,i]/np.max(x[:,:,i])\n",
    "    return x"
   ]
  },
  {
   "cell_type": "code",
   "execution_count": null,
   "metadata": {
    "colab": {},
    "colab_type": "code",
    "id": "YR5cCBJBpBpG"
   },
   "outputs": [],
   "source": [
    "def create_padded_x(x,patch_size):\n",
    "    pad_width = int( (patch_size-1)/2 )\n",
    "    padded_x = np.pad(x,[(pad_width,pad_width),(pad_width,pad_width),(0,0)],'edge')\n",
    "    return padded_x"
   ]
  },
  {
   "cell_type": "code",
   "execution_count": null,
   "metadata": {
    "colab": {},
    "colab_type": "code",
    "id": "_JBCT0Jj0F-a"
   },
   "outputs": [],
   "source": [
    "x=normalize_x(x)"
   ]
  },
  {
   "cell_type": "code",
   "execution_count": null,
   "metadata": {
    "colab": {},
    "colab_type": "code",
    "id": "cdMi7ZYt0Hss"
   },
   "outputs": [],
   "source": [
    "padded_x=create_padded_x(x,patch_size)"
   ]
  },
  {
   "cell_type": "code",
   "execution_count": null,
   "metadata": {
    "colab": {},
    "colab_type": "code",
    "id": "tzUhzxPg0MVk"
   },
   "outputs": [],
   "source": [
    "def ground_truth_patches_labels(h,w,padded_x,patch_size):\n",
    "    X,Y = [],[]\n",
    "    for i in range(h):\n",
    "      for j in range(w):\n",
    "        if(y[i][j]!= 0):\n",
    "          patch = padded_x[i:i+patch_size,j:j+patch_size,:]\n",
    "          X.append(patch)\n",
    "          Y.append(y[i][j]-1)\n",
    "    return X,Y"
   ]
  },
  {
   "cell_type": "code",
   "execution_count": null,
   "metadata": {
    "colab": {},
    "colab_type": "code",
    "id": "_vhTK1BBpBps"
   },
   "outputs": [],
   "source": [
    "X,Y=ground_truth_patches_labels(h,w,padded_x,patch_size)"
   ]
  },
  {
   "cell_type": "code",
   "execution_count": null,
   "metadata": {
    "colab": {},
    "colab_type": "code",
    "id": "YkDOhppU0NC1"
   },
   "outputs": [],
   "source": [
    "x_train, x_test, y_train, y_test = train_test_split( X,Y, test_size=0.25,stratify=Y, random_state=10)"
   ]
  },
  {
   "cell_type": "code",
   "execution_count": 132,
   "metadata": {
    "colab": {
     "base_uri": "https://localhost:8080/",
     "height": 335
    },
    "colab_type": "code",
    "id": "udFblJOt0RlL",
    "outputId": "8416a56c-aa75-4276-84d6-b29d07ce5c92"
   },
   "outputs": [
    {
     "name": "stdout",
     "output_type": "stream",
     "text": [
      "(array([ 0,  1,  2,  3,  4,  5,  6,  7,  8,  9, 10, 11, 12, 13, 14, 15]), array([  35, 1071,  622,  178,  362,  547,   21,  358,   15,  729, 1841,\n",
      "        445,  154,  949,  289,   70]))\n"
     ]
    },
    {
     "data": {
      "image/png": "[encoded data removed]",
      "text/plain": [
       "<Figure size 432x288 with 1 Axes>"
      ]
     },
     "metadata": {
      "needs_background": "light",
      "tags": []
     },
     "output_type": "display_data"
    }
   ],
   "source": [
    "u_c = np.unique(y_train,return_counts=True)\n",
    "print(u_c)\n",
    "plt.bar( u_c[0],u_c[1], align='center', alpha=0.5)\n",
    "plt.title('Distribution of samples before resampling')\n",
    "plt.show()"
   ]
  },
  {
   "cell_type": "code",
   "execution_count": 133,
   "metadata": {
    "colab": {
     "base_uri": "https://localhost:8080/",
     "height": 335
    },
    "colab_type": "code",
    "id": "TtwTrtP90SMV",
    "outputId": "f73a2d10-7133-4e6a-8683-45bc1b3ea932"
   },
   "outputs": [
    {
     "name": "stdout",
     "output_type": "stream",
     "text": [
      "(array([ 0,  1,  2,  3,  4,  5,  6,  7,  8,  9, 10, 11, 12, 13, 14, 15]), array([200, 200, 200, 200, 200, 200, 200, 200, 200, 200, 200, 200, 200,\n",
      "       200, 200, 200]))\n"
     ]
    },
    {
     "data": {
      "image/png": "[encoded data removed]",
      "text/plain": [
       "<Figure size 432x288 with 1 Axes>"
      ]
     },
     "metadata": {
      "needs_background": "light",
      "tags": []
     },
     "output_type": "display_data"
    }
   ],
   "source": [
    "output_classes = len(np.unique(y_np))-1\n",
    "classes = []\n",
    "if(oversampling):\n",
    "    for i in range(output_classes):\n",
    "        classes.append([])\n",
    "        \n",
    "    for i in range(len(y_train)):\n",
    "        classes[y_train[i]].append(x_train[i])\n",
    "        \n",
    "    for c in range(output_classes):\n",
    "        temp = classes[c]\n",
    "        for i in range( int( no_of_patch / len(classes[c]) ) ):\n",
    "            classes[c]+=temp\n",
    "        shuffle(classes[c])\n",
    "        classes[c] = classes[c][0:no_of_patch]\n",
    "        \n",
    "    x_train,y_train = [],[]\n",
    "    for c in range(output_classes):\n",
    "        x_train.extend( classes[c] )\n",
    "        for i in range(len(classes[c])):\n",
    "            y_train.append(c)\n",
    "            \n",
    "    randomize = np.arange(len(x_train))\n",
    "    np.random.shuffle(randomize)\n",
    "    x_train = [x_train[i] for i in randomize]\n",
    "    y_train = [y_train[i] for i in randomize]\n",
    "    \n",
    "    u_c = np.unique(y_train,return_counts=True)\n",
    "    print(u_c)\n",
    "    plt.bar( u_c[0],u_c[1], align='center', alpha=0.5)\n",
    "    plt.title('Distribution of samples after resampling')\n",
    "    plt.show()"
   ]
  },
  {
   "cell_type": "code",
   "execution_count": null,
   "metadata": {
    "colab": {},
    "colab_type": "code",
    "id": "MdyIkzBF0Z62"
   },
   "outputs": [],
   "source": [
    "x_train,x_test,y_train,y_test= np.array(x_train),np.array(x_test),np.array(y_train),np.array(y_test)"
   ]
  },
  {
   "cell_type": "markdown",
   "metadata": {
    "colab_type": "text",
    "id": "MvXi6FsHpBqX"
   },
   "source": [
    "# **3. Build and train CNN model on DATASET**"
   ]
  },
  {
   "cell_type": "code",
   "execution_count": null,
   "metadata": {
    "colab": {},
    "colab_type": "code",
    "id": "WWvR6V2u00cK"
   },
   "outputs": [],
   "source": [
    "CONV_1_CHANNELS = p.CONV_1_CHANNELS\n",
    "CONV_2_CHANNELS = p.CONV_2_CHANNELS\n",
    "FC_1_UNITS = 200\n",
    "FC_2_UNITS = 84\n",
    "FC_3_UNITS = 16\n",
    "\n",
    "#Kernel Sizes\n",
    "CONV_K_S = 5\n",
    "POOL_K_S = 2\n",
    "\n",
    "STRIDES = 2\n",
    "# Before x_train.shape= {number,height,width,bands}\n",
    "# Aftet x_train.shape= {number,bands,height,width}\n",
    "x_train = np.reshape(x_train, (x_train.shape[0], x_train.shape[3], \n",
    "                               x_train.shape[1], x_train.shape[2]))\n",
    "x_test = np.reshape(x_test, (x_test.shape[0],x_test.shape[3], \n",
    "                             x_test.shape[1], x_test.shape[2]))\n",
    "p1=y_train\n",
    "q1=y_test\n",
    "y_train = np_utils.to_categorical(y_train)\n",
    "y_test = np_utils.to_categorical(y_test)\n",
    "a1=x_test\n",
    "b1=y_test"
   ]
  },
  {
   "cell_type": "code",
   "execution_count": null,
   "metadata": {
    "colab": {},
    "colab_type": "code",
    "id": "PzzhsACiPS8Z"
   },
   "outputs": [],
   "source": [
    "input_shape= x_train[0].shape"
   ]
  },
  {
   "cell_type": "code",
   "execution_count": null,
   "metadata": {
    "colab": {},
    "colab_type": "code",
    "id": "76its6SG1XIi"
   },
   "outputs": [],
   "source": [
    "# Define the model structure\n",
    "model = Sequential()\n",
    "model.add(Conv2D(500, (3,3) , activation='relu', input_shape=input_shape, strides = STRIDES, padding = 'same'))\n",
    "model.add(MaxPooling2D(pool_size = POOL_K_S, padding = 'same', strides = STRIDES))\n",
    "model.add(Conv2D(100, (3,3) , activation='relu',strides = STRIDES, padding = 'same'))\n",
    "model.add(MaxPooling2D(pool_size = POOL_K_S, padding = 'same', strides = STRIDES))\n",
    "model.add(Flatten())\n",
    "model.add(Dense(200, activation='relu'))\n",
    "model.add(Dense(84, activation='relu'))\n",
    "model.add(Dense(16,activation='softmax'))"
   ]
  },
  {
   "cell_type": "code",
   "execution_count": null,
   "metadata": {
    "colab": {},
    "colab_type": "code",
    "id": "f-kcgcIVCUUW"
   },
   "outputs": [],
   "source": [
    "reduce_lr = ReduceLROnPlateau(monitor='val_acc', factor=0.9, patience=25, \n",
    "                              min_lr=0.000001, verbose=1)\n",
    "checkpointer = ModelCheckpoint(filepath=\"checkpoint.hdf5\", verbose=1, \n",
    "                              save_best_only=True)\n",
    "sgd = SGD(lr=0.001, decay=1e-6, momentum=0.9, nesterov=True)\n",
    "model.compile(loss='categorical_crossentropy', optimizer=sgd, \n",
    "                              metrics=['accuracy'])"
   ]
  },
  {
   "cell_type": "code",
   "execution_count": 139,
   "metadata": {
    "colab": {
     "base_uri": "https://localhost:8080/",
     "height": 976
    },
    "colab_type": "code",
    "id": "5lZhjIIJ1YNe",
    "outputId": "a1d9b565-bd48-4d53-c653-7e7af3373310"
   },
   "outputs": [
    {
     "data": {
      "image/png": "[encoded data removed]",
      "text/plain": [
       "<IPython.core.display.Image object>"
      ]
     },
     "execution_count": 139,
     "metadata": {
      "tags": []
     },
     "output_type": "execute_result"
    }
   ],
   "source": [
    "from keras.utils import plot_model\n",
    "plot_model(model, to_file='/content/Files_CNN/CNN_model.png', show_shapes=True)"
   ]
  },
  {
   "cell_type": "code",
   "execution_count": 140,
   "metadata": {
    "colab": {
     "base_uri": "https://localhost:8080/",
     "height": 153
    },
    "colab_type": "code",
    "id": "8lz5QNCoWryk",
    "outputId": "96f404e5-868f-47d6-ef8f-f2fee21766bb"
   },
   "outputs": [
    {
     "name": "stdout",
     "output_type": "stream",
     "text": [
      "0 <keras.layers.convolutional.Conv2D object at 0x7fe6bc0a22b0>\n",
      "1 <keras.layers.pooling.MaxPooling2D object at 0x7fe6bc0a27b8>\n",
      "2 <keras.layers.convolutional.Conv2D object at 0x7fe6bc0a2278>\n",
      "3 <keras.layers.pooling.MaxPooling2D object at 0x7fe6bc0473c8>\n",
      "4 <keras.layers.core.Flatten object at 0x7fe6bc0a2630>\n",
      "5 <keras.layers.core.Dense object at 0x7fe6bc572d68>\n",
      "6 <keras.layers.core.Dense object at 0x7fe6bbe33668>\n",
      "7 <keras.layers.core.Dense object at 0x7fe6bbe37a20>\n"
     ]
    }
   ],
   "source": [
    "if(os.path.exists('/content/himanshu-garg/IP_CNN_samples3200_epoch200.h5')):\n",
    "    # load the model architecture and weights\n",
    "    model.load_weights(\"/content/himanshu-garg/IP_CNN_samples3200_epoch200.h5\")\n",
    "else:\n",
    "    # Start to train model \n",
    "    history = model.fit(x_train, y_train, \n",
    "                        batch_size=32, \n",
    "                        epochs=200, \n",
    "                        verbose=1, \n",
    "                        validation_data=(x_test, y_test),\n",
    "                        callbacks=[reduce_lr, checkpointer],\n",
    "                        shuffle=True)\n",
    "    # save the model with h5py\n",
    "    import h5py\n",
    "    model.save('/content/himanshu-garg/IP_CNN_samples3200_epoch200.h5')\n",
    "\n",
    "for l in range(len(model.layers)):\n",
    "    print(l, model.layers[l])"
   ]
  },
  {
   "cell_type": "markdown",
   "metadata": {
    "colab_type": "text",
    "id": "JBJeaGzYpBrD"
   },
   "source": [
    "# **4. Feature Extraction from second last layer of CNN**"
   ]
  },
  {
   "cell_type": "code",
   "execution_count": null,
   "metadata": {
    "colab": {},
    "colab_type": "code",
    "id": "5ocAUKv0h5G6"
   },
   "outputs": [],
   "source": [
    "# feature extraction layer\n",
    "getFeature = K.function([model.layers[0].input, K.learning_phase()],\n",
    "                        [model.layers[6].output])\n",
    "# classification layer\n",
    "getPrediction = K.function([model.layers[7].input, K.learning_phase()],\n",
    "                           [model.layers[7].output])"
   ]
  },
  {
   "cell_type": "code",
   "execution_count": null,
   "metadata": {
    "colab": {},
    "colab_type": "code",
    "id": "tKn_SBEuiNvw"
   },
   "outputs": [],
   "source": [
    "exTrain3000 = getFeature([x_train, 0])[0]\n",
    "exTest1000 = getFeature([x_test, 0])[0]"
   ]
  },
  {
   "cell_type": "code",
   "execution_count": null,
   "metadata": {
    "colab": {},
    "colab_type": "code",
    "id": "DDx7FoMljGcu"
   },
   "outputs": [],
   "source": [
    "y_train=p1\n",
    "y_test=q1\n",
    "y_train3000 = y_train\n",
    "y_test1000 = y_test"
   ]
  },
  {
   "cell_type": "code",
   "execution_count": 144,
   "metadata": {
    "colab": {
     "base_uri": "https://localhost:8080/",
     "height": 34
    },
    "colab_type": "code",
    "id": "9c-uUjN3knSO",
    "outputId": "5d4dd73b-6720-4f62-e0d7-553f3984ebb3"
   },
   "outputs": [
    {
     "name": "stdout",
     "output_type": "stream",
     "text": [
      "(3200, 84) (2563, 84) (3200,) (2563,)\n"
     ]
    }
   ],
   "source": [
    "print(exTrain3000.shape, exTest1000.shape, y_train3000.shape, y_test1000.shape)"
   ]
  },
  {
   "cell_type": "markdown",
   "metadata": {
    "colab_type": "text",
    "id": "fDS-twf8pBrj"
   },
   "source": [
    "# **5. Build and Train SVM based on Features from CNN**"
   ]
  },
  {
   "cell_type": "code",
   "execution_count": null,
   "metadata": {
    "colab": {},
    "colab_type": "code",
    "id": "SAIIFaFpkEf5"
   },
   "outputs": [],
   "source": [
    "if(os.path.exists('/content/himanshu-garg/IP_CNN_SVM_BEST.sav')):\n",
    "    # load the model \n",
    "    filename = '/content/himanshu-garg/IP_CNN_SVM_BEST.sav'\n",
    "    svmclf = pickle.load(open(filename, 'rb'))\n",
    "else:\n",
    "    C = [0.01, 0.03, 0.1, 0.3, 1, 3, 10, 30]\n",
    "    sigma = [0.01, 0.03, 0.1, 0.3, 1, 3, 10, 30]\n",
    "    gamma=[]\n",
    "    for i in range(0,len(sigma)):\n",
    "        gamma.append((1/(2 * sigma[i]**2)))\n",
    "    \"\"\"parameters = {'kernel':['rbf'], \n",
    "                  'C':C,\n",
    "                  'gamma':gamma}\"\"\"\n",
    "    parameters = {'kernel':['rbf'], \n",
    "                  'C':[30],\n",
    "                  'gamma':[0.005]}\n",
    "    clf = GridSearchCV(SVC(), parameters)\n",
    "    clf.fit(exTrain3000, y_train3000)\n",
    "    #By this we obtain optimal C=30, gamma=0.005\n",
    "\n",
    "    svmclf = clf.best_estimator_\n",
    "    svmclf.fit(exTrain3000, y_train3000)\n",
    "\n",
    "    filename = '/content/himanshu-garg/IP_CNN_SVM_BEST.sav'\n",
    "    pickle.dump(svmclf, open(filename, 'wb'))"
   ]
  },
  {
   "cell_type": "markdown",
   "metadata": {
    "colab_type": "text",
    "id": "SQl-4sXspBr2"
   },
   "source": [
    "# **6. Save the reports**"
   ]
  },
  {
   "cell_type": "code",
   "execution_count": null,
   "metadata": {
    "colab": {},
    "colab_type": "code",
    "id": "20_SZH-PpBr3"
   },
   "outputs": [],
   "source": [
    "def save_report_of_CNN_on_test_samples(y_test,test_accuracy):\n",
    "    file_name = \"/content/Files_CNN/Report_cnn_on_TEST_SAMPLES.txt\"\n",
    "    with open(file_name, 'w') as x_file:\n",
    "        x_file.write('Number of Test Samples : {} '.format(y_test.shape[0]))\n",
    "        x_file.write('\\n')\n",
    "        x_file.write('Test accuracy : {} (%)'.format(test_accuracy))"
   ]
  },
  {
   "cell_type": "code",
   "execution_count": null,
   "metadata": {
    "colab": {},
    "colab_type": "code",
    "id": "c_sjmfaUpBr_"
   },
   "outputs": [],
   "source": [
    "def save_report_of_CNN_SVM_on_train_samples(y_train3000,train_accuracy,classification,confusion):\n",
    "    file_name = \"/content/Files_CNN/Report_cnn_svm_on_TRAIN_SAMPLES.txt\"\n",
    "    with open(file_name, 'w') as x_file:\n",
    "        x_file.write('Number of train Samples : {} '.format(y_train3000.shape[0]))\n",
    "        x_file.write('\\n')\n",
    "        x_file.write('Train accuracy : {} (%)'.format(train_accuracy))\n",
    "        x_file.write('\\n')\n",
    "        x_file.write('\\n')\n",
    "        x_file.write(\"Classification result: \\n\")\n",
    "        x_file.write('{}'.format(classification))\n",
    "        x_file.write('\\n')\n",
    "        x_file.write(\" confusion matrix: \\n\")\n",
    "        x_file.write('{}'.format(confusion))"
   ]
  },
  {
   "cell_type": "code",
   "execution_count": null,
   "metadata": {
    "colab": {},
    "colab_type": "code",
    "id": "efvuQmLfpBsF"
   },
   "outputs": [],
   "source": [
    "def save_report_of_CNN_SVM_on_test_samples(y_test1000,Test_accuracy,classification,confusion):\n",
    "    file_name = \"/content/Files_CNN/Report_cnn_svm_on_TEST_SAMPLES.txt\"\n",
    "    with open(file_name, 'w') as x_file:\n",
    "        x_file.write('Number of Test Samples : {} '.format(y_test1000.shape[0]))\n",
    "        x_file.write('\\n')\n",
    "        x_file.write('Test accuracy : {} (%)'.format(Test_accuracy))\n",
    "        x_file.write('\\n')\n",
    "        x_file.write('\\n')\n",
    "        x_file.write(\"Classification result: \\n\")\n",
    "        x_file.write('{}'.format(classification))\n",
    "        x_file.write('\\n')\n",
    "        x_file.write(\" confusion matrix: \\n\")\n",
    "        x_file.write('{}'.format(confusion))"
   ]
  },
  {
   "cell_type": "code",
   "execution_count": null,
   "metadata": {
    "colab": {},
    "colab_type": "code",
    "id": "dgu_mFKrpBsN"
   },
   "outputs": [],
   "source": [
    "def save_overall_comparision_of_models(Y,h,w,y_train,y_test,test_accuracy,train_accuracy,Test_accuracy):\n",
    "    file_name = \"/content/Files_CNN/Overall_Accuracy_Comparision.txt\"\n",
    "    with open(file_name, 'w') as x_file:\n",
    "        x_file.write('\\n\\t1. Number of Pixels with Ground Truth: {} '.format(np.array(Y).shape[0]))\n",
    "        x_file.write('\\n\\n')\n",
    "        x_file.write('\\t2. Number of Pixels without Ground Truth: {} '.format(h*w - np.array(Y).shape[0]))\n",
    "        x_file.write('\\n\\n')\n",
    "        x_file.write('\\t3. Number of Train Samples : {} '.format(y_train.shape[0]))\n",
    "        x_file.write('\\n\\n')\n",
    "        x_file.write('\\t4. Number of Test Samples : {} '.format(y_test.shape[0]))\n",
    "        x_file.write('\\n\\n\\n\\n-----------------------------------------------------------------------OVERALL COMPARISION OF ACCURACY-----------------------------------------------------------------\\n\\n\\n\\n')\n",
    "        x_file.write('\\t1. Accuracy on Test Samples Using Only CNN :-  {} (%)'.format(test_accuracy))\n",
    "        x_file.write('\\n\\n')\n",
    "        x_file.write('\\t2. Accuracy on Test Samples Using Only SVM :-  {} (%)'.format(83.67479674796748))\n",
    "        x_file.write('\\n\\n')\n",
    "        x_file.write('\\t3. Accuracy on Train Samples Using CNN-SVM :-  {} (%)'.format(train_accuracy))\n",
    "        x_file.write('\\n\\n')\n",
    "        x_file.write('\\t4. Accuracy on Test Samples Using CNN-SVM :-  {} (%)'.format(Test_accuracy))\n"
   ]
  },
  {
   "cell_type": "code",
   "execution_count": null,
   "metadata": {
    "colab": {},
    "colab_type": "code",
    "id": "xAWbmxdQox_C"
   },
   "outputs": [],
   "source": [
    "y_testSVM = svmclf.predict(exTest1000)\n",
    "confusion = confusion_matrix(y_test1000, y_testSVM)\n",
    "Test_accuracy=100*accuracy_score(y_test1000, y_testSVM) \n",
    "classification=classification_report(y_test1000, y_testSVM)\n",
    "\n",
    "save_report_of_CNN_SVM_on_test_samples(y_test1000,Test_accuracy,classification,confusion)"
   ]
  },
  {
   "cell_type": "code",
   "execution_count": null,
   "metadata": {
    "colab": {},
    "colab_type": "code",
    "id": "rsanQJ2cszeS"
   },
   "outputs": [],
   "source": [
    "y_trainSVM = svmclf.predict(exTrain3000)\n",
    "confusion = confusion_matrix(y_train3000, y_trainSVM)\n",
    "train_accuracy=100*accuracy_score(y_train3000, y_trainSVM) \n",
    "classification=classification_report(y_train3000, y_trainSVM)\n",
    "\n",
    "save_report_of_CNN_SVM_on_train_samples(y_train3000,train_accuracy,classification,confusion)"
   ]
  },
  {
   "cell_type": "code",
   "execution_count": 152,
   "metadata": {
    "colab": {
     "base_uri": "https://localhost:8080/",
     "height": 34
    },
    "colab_type": "code",
    "id": "_aXbOWChuzoS",
    "outputId": "0bc2728a-7696-4051-c10c-2455165de523"
   },
   "outputs": [
    {
     "name": "stdout",
     "output_type": "stream",
     "text": [
      "2563/2563 [==============================] - 1s 546us/step\n"
     ]
    }
   ],
   "source": [
    "model=load_model(\"/content/himanshu-garg/IP_CNN_samples3200_epoch200.h5\")\n",
    "score = model.evaluate(a1,b1, batch_size=32)\n",
    "Test_Loss = score[0]*100\n",
    "test_accuracy = score[1]*100"
   ]
  },
  {
   "cell_type": "code",
   "execution_count": null,
   "metadata": {
    "colab": {},
    "colab_type": "code",
    "id": "gA5iDLsZPAv6"
   },
   "outputs": [],
   "source": [
    "save_report_of_CNN_on_test_samples(y_test,test_accuracy)"
   ]
  },
  {
   "cell_type": "code",
   "execution_count": null,
   "metadata": {
    "colab": {},
    "colab_type": "code",
    "id": "IeciwkODQXS-"
   },
   "outputs": [],
   "source": [
    "save_overall_comparision_of_models(Y,h,w,y_train,y_test,test_accuracy,train_accuracy,Test_accuracy)"
   ]
  },
  {
   "cell_type": "markdown",
   "metadata": {
    "colab_type": "text",
    "id": "G6c8DpjZX7K8"
   },
   "source": [
    "# **7. Generate Predicted Image**"
   ]
  },
  {
   "cell_type": "code",
   "execution_count": null,
   "metadata": {
    "colab": {},
    "colab_type": "code",
    "id": "OMs7ZEBeNWfO"
   },
   "outputs": [],
   "source": [
    "x_np, y_np = np.array(mat_x), np.array(mat_y)\n",
    "x, y = x_np.reshape(h,w,b), y_np.reshape(h,w)"
   ]
  },
  {
   "cell_type": "code",
   "execution_count": null,
   "metadata": {
    "colab": {},
    "colab_type": "code",
    "id": "MKlQMsouNxVF"
   },
   "outputs": [],
   "source": [
    "x=normalize_x(x)"
   ]
  },
  {
   "cell_type": "code",
   "execution_count": null,
   "metadata": {
    "colab": {},
    "colab_type": "code",
    "id": "FmUFJjMeNx8h"
   },
   "outputs": [],
   "source": [
    "padded_x=create_padded_x(x,patch_size)"
   ]
  },
  {
   "cell_type": "code",
   "execution_count": null,
   "metadata": {
    "colab": {},
    "colab_type": "code",
    "id": "Ws1eSU4OOSK4"
   },
   "outputs": [],
   "source": [
    "X,Y=ground_truth_patches_labels(h,w,padded_x,patch_size)"
   ]
  },
  {
   "cell_type": "code",
   "execution_count": null,
   "metadata": {
    "colab": {},
    "colab_type": "code",
    "id": "k8Mg2q-YN2Cv"
   },
   "outputs": [],
   "source": [
    "X=np.array(X)\n",
    "x_test = np.reshape(X, (X.shape[0],X.shape[3], \n",
    "                             X.shape[1], X.shape[2]))"
   ]
  },
  {
   "cell_type": "code",
   "execution_count": 160,
   "metadata": {
    "colab": {
     "base_uri": "https://localhost:8080/",
     "height": 34
    },
    "colab_type": "code",
    "id": "M8yFlxU1OpNU",
    "outputId": "c6e2971e-be19-4e3d-bc70-cbd995a29c24"
   },
   "outputs": [
    {
     "name": "stdout",
     "output_type": "stream",
     "text": [
      "(10249, 200, 5, 5)\n"
     ]
    }
   ],
   "source": [
    "print(x_test.shape)"
   ]
  },
  {
   "cell_type": "code",
   "execution_count": null,
   "metadata": {
    "colab": {},
    "colab_type": "code",
    "id": "CJD7KYBQO3Vx"
   },
   "outputs": [],
   "source": [
    "pred=[]\n",
    "for i in range(0,x_test.shape[0]):\n",
    "  x_TEST=x_test[i]\n",
    "  x_TEST=np.reshape(x_TEST,(1,x_test.shape[1],x_test.shape[2],x_test.shape[3]))\n",
    "  x_TEST = getFeature([x_TEST, 0])[0]\n",
    "  pre=svmclf.predict(x_TEST)\n",
    "  pred.append(pre[0])"
   ]
  },
  {
   "cell_type": "code",
   "execution_count": null,
   "metadata": {
    "colab": {},
    "colab_type": "code",
    "id": "rWSHaWGXPCuQ"
   },
   "outputs": [],
   "source": [
    "output=np.zeros((h,w))\n",
    "k=0\n",
    "for i in range(h):\n",
    "  for j in range(w):\n",
    "    if(y[i][j]!=0):\n",
    "      output[i][j]=pred[k]+1\n",
    "      k=k+1\n",
    "    else:\n",
    "      output[i][j]=y[i][j]\n"
   ]
  },
  {
   "cell_type": "code",
   "execution_count": 172,
   "metadata": {
    "colab": {
     "base_uri": "https://localhost:8080/",
     "height": 323
    },
    "colab_type": "code",
    "id": "qg16JfcLSLwj",
    "outputId": "8f7e929f-1250-4275-df15-ed3a91b63d23"
   },
   "outputs": [
    {
     "data": {
      "image/png": "[encoded data removed]",
      "text/plain": [
       "<Figure size 360x360 with 1 Axes>"
      ]
     },
     "metadata": {
      "needs_background": "light",
      "tags": []
     },
     "output_type": "display_data"
    }
   ],
   "source": [
    "ground_truth = imshow(classes = y,figsize =(5,5))"
   ]
  },
  {
   "cell_type": "code",
   "execution_count": 175,
   "metadata": {
    "colab": {
     "base_uri": "https://localhost:8080/",
     "height": 323
    },
    "colab_type": "code",
    "id": "8UWrRJXDPh5s",
    "outputId": "8cce4f97-c4d9-4727-9d26-e74a7c96d464"
   },
   "outputs": [
    {
     "data": {
      "image/png": "[encoded data removed]",
      "text/plain": [
       "<Figure size 360x360 with 1 Axes>"
      ]
     },
     "metadata": {
      "needs_background": "light",
      "tags": []
     },
     "output_type": "display_data"
    }
   ],
   "source": [
    "predict_image = imshow(classes = output.astype(int),figsize =(5,5))"
   ]
  }
 ],
 "metadata": {
  "colab": {
   "collapsed_sections": [],
   "machine_shape": "hm",
   "name": "IP_CNN_SVM_HYBRID.ipynb",
   "provenance": [],
   "toc_visible": true
  },
  "kernelspec": {
   "display_name": "Python 3.7.6 64-bit ('anaconda3': virtualenv)",
   "language": "python",
   "name": "python37664bitanaconda3virtualenvcacf493e55cf476198af34145e193de0"
  },
  "language_info": {
   "codemirror_mode": {
    "name": "ipython",
    "version": 3
   },
   "file_extension": ".py",
   "mimetype": "text/x-python",
   "name": "python",
   "nbconvert_exporter": "python",
   "pygments_lexer": "ipython3",
   "version": "3.7.6"
  }
 },
 "nbformat": 4,
 "nbformat_minor": 4
}
