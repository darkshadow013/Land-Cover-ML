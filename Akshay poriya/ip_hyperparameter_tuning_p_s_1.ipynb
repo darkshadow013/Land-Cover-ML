{
 "cells": [
  {
   "cell_type": "markdown",
   "metadata": {
    "colab_type": "text",
    "id": "view-in-github"
   },
   "source": [
    "<a href=\"https://colab.research.google.com/github/darkshadow013/Land-cover-ML/blob/master/ip_hyperparameter_tuning_p_s_1.ipynb\" target=\"_parent\"><img src=\"https://colab.research.google.com/assets/colab-badge.svg\" alt=\"Open In Colab\"/></a>"
   ]
  },
  {
   "cell_type": "code",
   "execution_count": null,
   "metadata": {
    "colab": {
     "base_uri": "https://localhost:8080/",
     "height": 221
    },
    "colab_type": "code",
    "id": "BXhwnP1Kwdo3",
    "outputId": "f4081c3d-7c1c-45d0-9dc2-8f1e87151d1f"
   },
   "outputs": [],
   "source": [
    "# Clone the entire repo.\n",
    "\"\"\"!git clone -l -s git://github.com/darkshadow013/Land-cover-ML akshay-poria\n",
    "%cd akshay-poria\n",
    "!ls\"\"\""
   ]
  },
  {
   "cell_type": "code",
   "execution_count": null,
   "metadata": {
    "colab": {},
    "colab_type": "code",
    "id": "uPOguSt43jBt"
   },
   "outputs": [],
   "source": [
    "import scipy.io as si         # for inputing matlab files\n",
    "import numpy as np            # Linear Algebra tools\n",
    "from random import shuffle    # for shuffling dataset\n",
    "import pandas as pd           # for csv files and dataframes\n",
    "import matplotlib.pyplot as plt"
   ]
  },
  {
   "cell_type": "code",
   "execution_count": null,
   "metadata": {
    "colab": {
     "base_uri": "https://localhost:8080/",
     "height": 34
    },
    "colab_type": "code",
    "id": "Zs6FsHTR3pIL",
    "outputId": "7db0ed65-dab4-4fa8-c128-04a49955365a"
   },
   "outputs": [],
   "source": [
    "\"\"\"mat_x = si.loadmat('/content/akshay-poria/Data/Indian_pines.mat')['indian_pines']        # shape 145*145*220\n",
    "mat_y = si.loadmat('/content/akshay-poria/Data/Indian_pines_gt.mat')['indian_pines_gt']  # shape 145*145\n",
    "print(mat_x.shape,mat_y.shape)\"\"\""
   ]
  },
  {
   "cell_type": "code",
   "execution_count": null,
   "metadata": {
    "colab": {
     "base_uri": "https://localhost:8080/",
     "height": 34
    },
    "colab_type": "code",
    "id": "Zs6FsHTR3pIL",
    "outputId": "7db0ed65-dab4-4fa8-c128-04a49955365a"
   },
   "outputs": [],
   "source": [
    "mat_x = si.loadmat('E:/GITHUB/Akshay poriya/Data/Indian_pines_corrected.mat')['indian_pines_corrected']        # shape 145*145*220\n",
    "mat_y = si.loadmat('E:/GITHUB/Akshay poriya/Data/Indian_pines_gt.mat')['indian_pines_gt']  # shape 145*145\n",
    "print(mat_x.shape,mat_y.shape)"
   ]
  },
  {
   "cell_type": "code",
   "execution_count": null,
   "metadata": {
    "colab": {},
    "colab_type": "code",
    "id": "PXLi8jHW3sov"
   },
   "outputs": [],
   "source": [
    "h, w, b = 145, 145, 200           # height,width and band of image\n",
    "P_S = 7                           # patch size (window size)\n",
    "oversampling = True               # Turn true to make distribution of samples across various classes to be uniform\n",
    "no_of_patch = 250                # if oversampling is true enter no of patches for each class"
   ]
  },
  {
   "cell_type": "code",
   "execution_count": null,
   "metadata": {
    "colab": {},
    "colab_type": "code",
    "id": "ggM99YxC3ta8"
   },
   "outputs": [],
   "source": [
    "x_np, y_np = np.array(mat_x), np.array(mat_y)\n",
    "x, y = x_np.reshape(h,w,b), y_np.reshape(h,w)       # x and y are equal to x_np and y_np"
   ]
  },
  {
   "cell_type": "code",
   "execution_count": null,
   "metadata": {
    "colab": {},
    "colab_type": "code",
    "id": "dMJxDyTB3v0K"
   },
   "outputs": [],
   "source": [
    "x = x.astype(float)\n",
    "for i in range(b):\n",
    "  x[:,:,i] = x[:,:,i]/np.max(x[:,:,i])"
   ]
  },
  {
   "cell_type": "code",
   "execution_count": null,
   "metadata": {
    "colab": {
     "base_uri": "https://localhost:8080/",
     "height": 34
    },
    "colab_type": "code",
    "id": "u9ZcT4lx3ydl",
    "outputId": "31d7ea06-daa7-4593-8800-ae42600c546d"
   },
   "outputs": [],
   "source": [
    "pad_width = int( (P_S-1)/2 )\n",
    "padded_x = np.pad(x,[(pad_width,pad_width),(pad_width,pad_width),(0,0)],'edge')\n",
    "print(padded_x.shape)"
   ]
  },
  {
   "cell_type": "code",
   "execution_count": null,
   "metadata": {},
   "outputs": [],
   "source": [
    "\"\"\"from sklearn.decomposition import PCA \n",
    "  \n",
    "# Let's say, components = 2 \n",
    "pca = PCA(n_components = 50) \n",
    "pca.fit(padded_x) \n",
    "x_pca = pca.transform(padded_x) \n",
    "  \n",
    "x_pca.shape \"\"\""
   ]
  },
  {
   "cell_type": "code",
   "execution_count": null,
   "metadata": {
    "colab": {},
    "colab_type": "code",
    "id": "mbiZ6pDA31CN"
   },
   "outputs": [],
   "source": [
    "X,Y = [],[]\n",
    "for i in range(h):\n",
    "  for j in range(w):\n",
    "    if(y[i][j]!= 0):\n",
    "      patch = padded_x[i:i+P_S,j:j+P_S,:]\n",
    "      X.append(patch)\n",
    "      Y.append(y[i][j]-1)"
   ]
  },
  {
   "cell_type": "code",
   "execution_count": null,
   "metadata": {
    "colab": {},
    "colab_type": "code",
    "id": "H2Nyr_CB33EJ"
   },
   "outputs": [],
   "source": [
    "from sklearn.model_selection import train_test_split\n",
    "x_train, x_test, y_train, y_test = train_test_split( X, Y, test_size=0.7,stratify=Y)"
   ]
  },
  {
   "cell_type": "code",
   "execution_count": null,
   "metadata": {
    "colab": {
     "base_uri": "https://localhost:8080/",
     "height": 335
    },
    "colab_type": "code",
    "id": "Fp1WwpgV38wE",
    "outputId": "0be4f329-db40-4a57-9e71-7f3381ef96a8"
   },
   "outputs": [],
   "source": [
    "u_c = np.unique(y_train,return_counts=True)\n",
    "print(u_c)\n",
    "plt.bar( u_c[0],u_c[1], align='center', alpha=0.5)\n",
    "plt.title('Distribution of samples before resampling')\n",
    "plt.show()"
   ]
  },
  {
   "cell_type": "code",
   "execution_count": null,
   "metadata": {
    "colab": {},
    "colab_type": "code",
    "id": "yK7TyU_I3_Ky"
   },
   "outputs": [],
   "source": [
    "output_classes = len(np.unique(y_np))-1\n",
    "classes = []\n",
    "if(oversampling):\n",
    "  \n",
    "  for i in range(output_classes):\n",
    "    classes.append([])\n",
    "  for i in range(len(y_train)):\n",
    "    classes[y_train[i]].append(x_train[i])\n",
    "  for c in range(output_classes):\n",
    "    temp = classes[c]\n",
    "    print(len(classes[c]))\n",
    "    for i in range( int( no_of_patch / len(classes[c]) ) ):\n",
    "      classes[c]+=temp\n",
    "    shuffle(classes[c])\n",
    "    classes[c] = classes[c][0:no_of_patch]\n",
    "  x_train,y_train = [],[]\n",
    "  for c in range(output_classes):\n",
    "    x_train.extend( classes[c] )\n",
    "    for i in range(len(classes[c])):\n",
    "      y_train.append(c)\n",
    "  randomize = np.arange(len(x_train))\n",
    "  np.random.shuffle(randomize)\n",
    "  x_train = [x_train[i] for i in randomize]\n",
    "  y_train = [y_train[i] for i in randomize]"
   ]
  },
  {
   "cell_type": "code",
   "execution_count": null,
   "metadata": {
    "colab": {},
    "colab_type": "code",
    "id": "2LF2WThx4BuY"
   },
   "outputs": [],
   "source": [
    "u_c = np.unique(y_train,return_counts=True)\n",
    "print(u_c)\n",
    "plt.bar( u_c[0],u_c[1], align='center', alpha=0.5)\n",
    "plt.title('Distribution of samples after resampling')\n",
    "plt.show()"
   ]
  },
  {
   "cell_type": "code",
   "execution_count": null,
   "metadata": {
    "colab": {},
    "colab_type": "code",
    "id": "VENAr6SB4ENT"
   },
   "outputs": [],
   "source": [
    "x_train,x_test,y_train,y_test = np.array(x_train),np.array(x_test),np.array(y_train),np.array(y_test)"
   ]
  },
  {
   "cell_type": "code",
   "execution_count": null,
   "metadata": {
    "colab": {},
    "colab_type": "code",
    "id": "jBAFa9oyB18N"
   },
   "outputs": [],
   "source": [
    "print(x_train.shape)"
   ]
  },
  {
   "cell_type": "code",
   "execution_count": null,
   "metadata": {
    "colab": {},
    "colab_type": "code",
    "id": "XvCyF1Oy4q6Z"
   },
   "outputs": [],
   "source": [
    "patch1 = np.zeros((x_train.shape[0],P_S*P_S*b))\n",
    "patch2 = np.zeros((x_test.shape[0],P_S*P_S*b))"
   ]
  },
  {
   "cell_type": "code",
   "execution_count": null,
   "metadata": {
    "colab": {},
    "colab_type": "code",
    "id": "QWpqEooaDSDK"
   },
   "outputs": [],
   "source": [
    "print(patch1,patch1.shape)"
   ]
  },
  {
   "cell_type": "code",
   "execution_count": null,
   "metadata": {
    "colab": {},
    "colab_type": "code",
    "id": "giUE7frJ4pz6"
   },
   "outputs": [],
   "source": [
    "for i in range(patch1.shape[0]):\n",
    "  patch1[i,:] = x_train[i,:,:,:].flatten('C')\n",
    "for i in range(patch2.shape[0]):\n",
    "  patch2[i,:] = x_test[i,:,:,:].flatten('C')\n",
    "\n",
    "x_train = patch1\n",
    "x_test = patch2"
   ]
  },
  {
   "cell_type": "code",
   "execution_count": null,
   "metadata": {
    "colab": {},
    "colab_type": "code",
    "id": "hW4O4zNf4q4H"
   },
   "outputs": [],
   "source": [
    "from sklearn.metrics import confusion_matrix\n",
    "from sklearn.metrics import accuracy_score\n",
    "from sklearn.metrics import classification_report\n",
    "from sklearn import svm\n",
    "import time"
   ]
  },
  {
   "cell_type": "markdown",
   "metadata": {
    "colab_type": "text",
    "id": "_w0We0q9GQou"
   },
   "source": [
    "**Hyperparameter Tunning**"
   ]
  },
  {
   "cell_type": "code",
   "execution_count": null,
   "metadata": {
    "colab": {},
    "colab_type": "code",
    "id": "yXtoqeuwFSr5"
   },
   "outputs": [],
   "source": [
    "sigma = [0.01, 0.03, 0.1, 0.3, 1, 3, 10, 30]\n",
    "C = [0.01, 0.03, 0.1, 0.3, 1, 3, 10, 30]\n",
    "\n",
    "acc = list()\n",
    "sigma_c = list()\n",
    "max_acc=0.0\n",
    "for each in sigma:\n",
    "    for each_c in C:\n",
    "      start = time.time()\n",
    "      clf = svm.SVC(kernel='rbf', gamma = 1/(2*(each**2)), C=each_c, decision_function_shape='ovr')\n",
    "      clf.fit(x_train, y_train)\n",
    "      accuracy = clf.score(x_test, y_test)\n",
    "      acc.append(accuracy)\n",
    "      sigma_c.append((each, each_c))\n",
    "      print('Sigma: %f, C: %f, accuracy: %f, Time: %f sec' % (each, each_c, accuracy, time.time()-start))"
   ]
  },
  {
   "cell_type": "code",
   "execution_count": null,
   "metadata": {
    "colab": {},
    "colab_type": "code",
    "id": "TDFY8Ly3GCRM"
   },
   "outputs": [],
   "source": [
    "index = np.argmax(acc)\n",
    "\n",
    "sigma_max, c_max = sigma_c[index]\n",
    "\n",
    "print('The optimal value of sigma is: {}'.format(sigma_max))\n",
    "print('The optimal value of C is: {}'.format(c_max))\n",
    "print('The optimal value of accuracy is: {}'.format(acc[index]))"
   ]
  },
  {
   "cell_type": "code",
   "execution_count": null,
   "metadata": {
    "colab": {},
    "colab_type": "code",
    "id": "xKTlpBWGU1Fl"
   },
   "outputs": [],
   "source": []
  },
  {
   "cell_type": "code",
   "execution_count": null,
   "metadata": {
    "colab": {},
    "colab_type": "code",
    "id": "nCid6ADeX-21"
   },
   "outputs": [],
   "source": []
  },
  {
   "cell_type": "code",
   "execution_count": null,
   "metadata": {
    "colab": {},
    "colab_type": "code",
    "id": "pg9DNiGgX-nn"
   },
   "outputs": [],
   "source": []
  },
  {
   "cell_type": "markdown",
   "metadata": {
    "colab_type": "text",
    "id": "Ad-IIqhdX_eZ"
   },
   "source": [
    "**Best Model**"
   ]
  },
  {
   "cell_type": "code",
   "execution_count": null,
   "metadata": {
    "colab": {},
    "colab_type": "code",
    "id": "goAI7BqWYDRG"
   },
   "outputs": [],
   "source": [
    "sigma = 1\n",
    "gamma = 1/(2 * sigma**2)"
   ]
  },
  {
   "cell_type": "code",
   "execution_count": null,
   "metadata": {
    "colab": {},
    "colab_type": "code",
    "id": "vV2-hDuRYLqX"
   },
   "outputs": [],
   "source": [
    "clf_best = svm.SVC(kernel='rbf', gamma=gamma, C=30, decision_function_shape='ovr')"
   ]
  },
  {
   "cell_type": "code",
   "execution_count": null,
   "metadata": {
    "colab": {},
    "colab_type": "code",
    "id": "G0BD3cEKYXS4"
   },
   "outputs": [],
   "source": [
    "clf_best.fit(x_train, y_train)"
   ]
  },
  {
   "cell_type": "code",
   "execution_count": null,
   "metadata": {
    "colab": {},
    "colab_type": "code",
    "id": "mWs_1j8JYcyB"
   },
   "outputs": [],
   "source": [
    "y_pred = clf_best.predict(x_test)"
   ]
  },
  {
   "cell_type": "code",
   "execution_count": null,
   "metadata": {
    "colab": {},
    "colab_type": "code",
    "id": "L01FuQ-AYf9H"
   },
   "outputs": [],
   "source": [
    "results = confusion_matrix(y_test,y_pred)\n",
    "print ('Confusion Matrix :')\n",
    "print(results) \n",
    "print ('Accuracy Score :',accuracy_score(y_test, y_pred)) \n",
    "print ('Report : ')\n",
    "print (classification_report(y_test, y_pred))"
   ]
  },
  {
   "cell_type": "markdown",
   "metadata": {
    "colab_type": "text",
    "id": "fPxvgGVSZ2CL"
   },
   "source": [
    "**Classified Image**"
   ]
  },
  {
   "cell_type": "code",
   "execution_count": null,
   "metadata": {
    "colab": {},
    "colab_type": "code",
    "id": "_YPgL2DDd0P3"
   },
   "outputs": [],
   "source": [
    "X1 = np.array(X)\n",
    "X2 = np.zeros((X1.shape[0],P_S*P_S*b))\n",
    "for i in range(X2.shape[0]):\n",
    "  X2[i,:] = X1[i,:,:,:].flatten('C')"
   ]
  },
  {
   "cell_type": "code",
   "execution_count": null,
   "metadata": {
    "colab": {},
    "colab_type": "code",
    "id": "8Z_LDcPFYwEr"
   },
   "outputs": [],
   "source": [
    "# Function to extract patche at h_index,w_index \n",
    "\n",
    "def patch_at_index(h_index,w_index):\n",
    "  patch = padded_x[h_index:h_index+P_S,w_index:w_index+P_S,:]\n",
    "  patch = patch.flatten('C')\n",
    "  patch = patch.reshape(1,patch.shape[0])\n",
    "  return patch"
   ]
  },
  {
   "cell_type": "code",
   "execution_count": null,
   "metadata": {
    "colab": {},
    "colab_type": "code",
    "id": "pQqg1Gn2aKMQ"
   },
   "outputs": [],
   "source": [
    "y_hat = np.zeros((h,w),dtype=int)\n",
    "\n",
    "for i in range(h):\n",
    "  for j in range(w):\n",
    "    if(i%2==0 and j==0):\n",
    "      print(i)\n",
    "    patch = patch_at_index(i,j)\n",
    "    y_hat[i][j] =  clf_best.predict(patch) +1"
   ]
  },
  {
   "cell_type": "code",
   "execution_count": null,
   "metadata": {
    "colab": {},
    "colab_type": "code",
    "id": "EpXfK3yFaeiw"
   },
   "outputs": [],
   "source": [
    "pip install spectral"
   ]
  },
  {
   "cell_type": "code",
   "execution_count": null,
   "metadata": {
    "colab": {},
    "colab_type": "code",
    "id": "XLU2XClpbzPg"
   },
   "outputs": [],
   "source": [
    "import spectral\n",
    "spectral.imshow(classes = y,figsize=(10,10))\n",
    "spectral.imshow(classes = y_hat,figsize=(10,10))"
   ]
  },
  {
   "cell_type": "code",
   "execution_count": null,
   "metadata": {
    "colab": {},
    "colab_type": "code",
    "id": "0rxkLAJqcTW4"
   },
   "outputs": [],
   "source": [
    "plt.plot(acc, label='Training Accuracy')"
   ]
  },
  {
   "cell_type": "code",
   "execution_count": null,
   "metadata": {
    "colab": {},
    "colab_type": "code",
    "id": "tgEGRA_pfC4J"
   },
   "outputs": [],
   "source": [
    "from mpl_toolkits import mplot3d\n",
    "\n",
    "ax = plt.axes(projection=\"3d\")\n",
    "zzz = np.array(sigma_c)\n",
    "ax.plot3D(zzz[:,0],zzz[:,1], acc)"
   ]
  },
  {
   "cell_type": "code",
   "execution_count": null,
   "metadata": {
    "colab": {},
    "colab_type": "code",
    "id": "oKXz76e8AI7U"
   },
   "outputs": [],
   "source": []
  }
 ],
 "metadata": {
  "accelerator": "GPU",
  "colab": {
   "collapsed_sections": [],
   "include_colab_link": true,
   "machine_shape": "hm",
   "name": "Copy of ip_hyperparameter_tuning_p_s_1.ipynb",
   "provenance": [],
   "toc_visible": true
  },
  "kernelspec": {
   "display_name": "Python 3.6.9 64-bit ('base': conda)",
   "language": "python",
   "name": "python36964bitbaseconda9a160a0ac07c4d66b4bae98300d5197f"
  },
  "language_info": {
   "codemirror_mode": {
    "name": "ipython",
    "version": 3
   },
   "file_extension": ".py",
   "mimetype": "text/x-python",
   "name": "python",
   "nbconvert_exporter": "python",
   "pygments_lexer": "ipython3",
   "version": "3.6.9"
  }
 },
 "nbformat": 4,
 "nbformat_minor": 4
}
