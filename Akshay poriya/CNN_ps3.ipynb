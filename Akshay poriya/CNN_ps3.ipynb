{
 "cells": [
  {
   "cell_type": "code",
   "execution_count": 1,
   "metadata": {
    "colab": {
     "base_uri": "https://localhost:8080/",
     "height": 54
    },
    "colab_type": "code",
    "executionInfo": {
     "elapsed": 1614,
     "status": "ok",
     "timestamp": 1579524116541,
     "user": {
      "displayName": "Akshay Poriya",
      "photoUrl": "https://lh3.googleusercontent.com/a-/AAuE7mDyEDspLiJAqrTnq2rZ60e5eDcPeJamOb5sT7-kYw=s64",
      "userId": "00395078934869062099"
     },
     "user_tz": -330
    },
    "id": "dJamjmsyJxzW",
    "outputId": "e3538539-effe-4495-8036-071c6b0af14d"
   },
   "outputs": [
    {
     "data": {
      "text/plain": [
       "'!git clone -l -s git://github.com/darkshadow013/Land-cover-ML akshay-poria\\n%cd akshay-poria\\n!ls'"
      ]
     },
     "execution_count": 1,
     "metadata": {},
     "output_type": "execute_result"
    }
   ],
   "source": [
    "# Clone the entire repo.\n",
    "\"\"\"!git clone -l -s git://github.com/darkshadow013/Land-cover-ML akshay-poria\n",
    "%cd akshay-poria\n",
    "!ls\"\"\""
   ]
  },
  {
   "cell_type": "code",
   "execution_count": 1,
   "metadata": {
    "colab": {},
    "colab_type": "code",
    "id": "eBVkFQleKSZX"
   },
   "outputs": [],
   "source": [
    "import scipy.io as si         # for inputing matlab files\n",
    "import numpy as np            # Linear Algebra tools\n",
    "from random import shuffle    # for shuffling dataset\n",
    "import pandas as pd           # for csv files and dataframes\n",
    "import matplotlib.pyplot as plt  # for ploting graphs and curves"
   ]
  },
  {
   "cell_type": "code",
   "execution_count": 2,
   "metadata": {
    "colab": {},
    "colab_type": "code",
    "id": "1_xO_KmWKTO5"
   },
   "outputs": [],
   "source": [
    "\"\"\"x_csv = pd.read_csv('/content/drive/My Drive/Machine Learning Projects/Hyperspectral and Multispectral/Hyperspectral_Image_Classification_Project/Mahesh_Sir_Data/data/data.csv')         \n",
    "y_csv = pd.read_csv('/content/drive/My Drive/Machine Learning Projects/Hyperspectral and Multispectral/Hyperspectral_Image_Classification_Project/Mahesh_Sir_Data/data/ref.csv')\"\"\"\n",
    "\n",
    "mat_x = si.loadmat('E:/GITHUB/Akshay poriya/Data/Indian_pines_corrected.mat')['indian_pines_corrected']        # shape 145*145*220\n",
    "mat_y = si.loadmat('E:/GITHUB/Akshay poriya/Data/Indian_pines_gt.mat')['indian_pines_gt']        "
   ]
  },
  {
   "cell_type": "code",
   "execution_count": 5,
   "metadata": {
    "colab": {},
    "colab_type": "code",
    "id": "DQSJOIcVKVT6"
   },
   "outputs": [],
   "source": [
    "h, w, b = 145, 145, 200             # height,width and band of image\n",
    "P_S = 3                          # patch size (window size)\n",
    "oversampling = True              # Turn true to make distribution of samples across various classes to be uniform\n",
    "no_of_patch = 200                # if oversampling is true enter no of patches for each class"
   ]
  },
  {
   "cell_type": "code",
   "execution_count": 6,
   "metadata": {
    "colab": {},
    "colab_type": "code",
    "id": "TiSXQxdxKfzA"
   },
   "outputs": [],
   "source": [
    "x_np, y_np = np.array(mat_x), np.array(mat_y)\n",
    "x, y = x_np.reshape(h,w,b), y_np.reshape(h,w)"
   ]
  },
  {
   "cell_type": "code",
   "execution_count": 7,
   "metadata": {
    "colab": {},
    "colab_type": "code",
    "id": "pDNAtDIFqr_w"
   },
   "outputs": [],
   "source": [
    "x = x.astype('float')\n",
    "for i in range(b):\n",
    "  x[:,:,i] /= np.max(x[:,:,i])"
   ]
  },
  {
   "cell_type": "code",
   "execution_count": 8,
   "metadata": {
    "colab": {},
    "colab_type": "code",
    "id": "ZaRmJahQKiDZ"
   },
   "outputs": [],
   "source": [
    "pad_width = int( (P_S-1)/2 )\n",
    "padded_x = np.pad(x,[(pad_width,pad_width),(pad_width,pad_width),(0,0)],'edge')"
   ]
  },
  {
   "cell_type": "code",
   "execution_count": 9,
   "metadata": {
    "colab": {},
    "colab_type": "code",
    "id": "i0DAca7DKkaA"
   },
   "outputs": [],
   "source": [
    "X,Y = [],[]\n",
    "for i in range(h):\n",
    "  for j in range(w):\n",
    "    if(y[i][j]!= 0):\n",
    "      patch = padded_x[i:i+P_S,j:j+P_S,:]\n",
    "      X.append(patch)\n",
    "      Y.append(y[i][j]-1)"
   ]
  },
  {
   "cell_type": "code",
   "execution_count": 10,
   "metadata": {
    "colab": {},
    "colab_type": "code",
    "id": "PtD4GYaUKnEI"
   },
   "outputs": [],
   "source": [
    "from sklearn.model_selection import train_test_split\n",
    "x_train, x_test, y_train, y_test = train_test_split( X, Y, test_size=0.25,stratify=Y, random_state=10)"
   ]
  },
  {
   "cell_type": "code",
   "execution_count": 11,
   "metadata": {
    "colab": {
     "base_uri": "https://localhost:8080/",
     "height": 298
    },
    "colab_type": "code",
    "executionInfo": {
     "elapsed": 1843,
     "status": "ok",
     "timestamp": 1579524523612,
     "user": {
      "displayName": "Akshay Poriya",
      "photoUrl": "https://lh3.googleusercontent.com/a-/AAuE7mDyEDspLiJAqrTnq2rZ60e5eDcPeJamOb5sT7-kYw=s64",
      "userId": "00395078934869062099"
     },
     "user_tz": -330
    },
    "id": "Or7Ep6fCKpJg",
    "outputId": "3e4d5f75-3283-479f-dcb3-639197bf7731"
   },
   "outputs": [
    {
     "name": "stdout",
     "output_type": "stream",
     "text": [
      "(array([ 0,  1,  2,  3,  4,  5,  6,  7,  8,  9, 10, 11, 12, 13, 14, 15]), array([  35, 1071,  622,  178,  362,  547,   21,  358,   15,  729, 1841,\n",
      "        445,  154,  949,  289,   70], dtype=int64))\n"
     ]
    },
    {
     "data": {
      "image/png": "[encoded data removed]",
      "text/plain": [
       "<Figure size 432x288 with 1 Axes>"
      ]
     },
     "metadata": {
      "needs_background": "light"
     },
     "output_type": "display_data"
    }
   ],
   "source": [
    "u_c = np.unique(y_train,return_counts=True)\n",
    "print(u_c)\n",
    "plt.bar( u_c[0],u_c[1], align='center', alpha=0.5)\n",
    "plt.title('Distribution of samples before resampling')\n",
    "plt.show()"
   ]
  },
  {
   "cell_type": "code",
   "execution_count": 12,
   "metadata": {
    "colab": {},
    "colab_type": "code",
    "id": "s4weyQYoKtu4"
   },
   "outputs": [],
   "source": [
    "output_classes = len(np.unique(y_np))-1\n",
    "if(oversampling):\n",
    "  classes = []\n",
    "  for i in range(output_classes):\n",
    "    classes.append([])\n",
    "  for i in range(len(y_train)):\n",
    "    classes[y_train[i]].append(x_train[i])\n",
    "  for c in range(output_classes):\n",
    "    temp = classes[c]\n",
    "    for i in range( int( no_of_patch / len(classes[c]) ) ):\n",
    "      classes[c]+=temp\n",
    "    shuffle(classes[c])\n",
    "    classes[c] = classes[c][0:no_of_patch]\n",
    "  x_train,y_train = [],[]\n",
    "  for c in range(output_classes):\n",
    "    x_train.extend( classes[c] )\n",
    "    for i in range(len(classes[c])):\n",
    "      y_train.append(c)\n",
    "  randomize = np.arange(len(x_train))\n",
    "  np.random.shuffle(randomize)\n",
    "  x_train = [x_train[i] for i in randomize]\n",
    "  y_train = [y_train[i] for i in randomize]"
   ]
  },
  {
   "cell_type": "code",
   "execution_count": 13,
   "metadata": {
    "colab": {
     "base_uri": "https://localhost:8080/",
     "height": 298
    },
    "colab_type": "code",
    "executionInfo": {
     "elapsed": 2115,
     "status": "ok",
     "timestamp": 1579523617915,
     "user": {
      "displayName": "Akshay Poriya",
      "photoUrl": "https://lh3.googleusercontent.com/a-/AAuE7mDyEDspLiJAqrTnq2rZ60e5eDcPeJamOb5sT7-kYw=s64",
      "userId": "00395078934869062099"
     },
     "user_tz": -330
    },
    "id": "UAnubwsyKwQY",
    "outputId": "101ccdb0-7671-4f63-fd14-811b52f5941d"
   },
   "outputs": [
    {
     "name": "stdout",
     "output_type": "stream",
     "text": [
      "(array([ 0,  1,  2,  3,  4,  5,  6,  7,  8,  9, 10, 11, 12, 13, 14, 15]), array([200, 200, 200, 200, 200, 200, 200, 200, 200, 200, 200, 200, 200,\n",
      "       200, 200, 200], dtype=int64))\n"
     ]
    },
    {
     "data": {
      "image/png": "[encoded data removed]",
      "text/plain": [
       "<Figure size 432x288 with 1 Axes>"
      ]
     },
     "metadata": {
      "needs_background": "light"
     },
     "output_type": "display_data"
    }
   ],
   "source": [
    "u_c = np.unique(y_train,return_counts=True)\n",
    "print(u_c)\n",
    "plt.bar( u_c[0],u_c[1], align='center', alpha=0.5)\n",
    "plt.title('Distribution of samples after resampling')\n",
    "plt.show()"
   ]
  },
  {
   "cell_type": "code",
   "execution_count": 14,
   "metadata": {
    "colab": {},
    "colab_type": "code",
    "id": "K6UcD_HHKyzo"
   },
   "outputs": [],
   "source": [
    "x_train,x_test,y_train,y_test = np.array(x_train),np.array(x_test),np.array(y_train),np.array(y_test)"
   ]
  },
  {
   "cell_type": "code",
   "execution_count": null,
   "metadata": {
    "colab": {},
    "colab_type": "code",
    "id": "18d66xnDz4jB"
   },
   "outputs": [],
   "source": []
  },
  {
   "cell_type": "code",
   "execution_count": null,
   "metadata": {
    "colab": {},
    "colab_type": "code",
    "id": "Fj5-ysBZTlrv"
   },
   "outputs": [],
   "source": []
  },
  {
   "cell_type": "code",
   "execution_count": 15,
   "metadata": {
    "colab": {
     "base_uri": "https://localhost:8080/",
     "height": 34
    },
    "colab_type": "code",
    "executionInfo": {
     "elapsed": 969,
     "status": "ok",
     "timestamp": 1579520097472,
     "user": {
      "displayName": "Akshay Poriya",
      "photoUrl": "https://lh3.googleusercontent.com/a-/AAuE7mDyEDspLiJAqrTnq2rZ60e5eDcPeJamOb5sT7-kYw=s64",
      "userId": "00395078934869062099"
     },
     "user_tz": -330
    },
    "id": "FOFvPVSH3_vW",
    "outputId": "5d5a3cd7-0093-4685-c137-eb6e645680e9"
   },
   "outputs": [
    {
     "ename": "NameError",
     "evalue": "name 'keras' is not defined",
     "output_type": "error",
     "traceback": [
      "\u001b[1;31m---------------------------------------------------------------------------\u001b[0m",
      "\u001b[1;31mNameError\u001b[0m                                 Traceback (most recent call last)",
      "\u001b[1;32m<ipython-input-15-bcc1a3ef1fca>\u001b[0m in \u001b[0;36m<module>\u001b[1;34m\u001b[0m\n\u001b[1;32m----> 1\u001b[1;33m \u001b[0mprint\u001b[0m\u001b[1;33m(\u001b[0m\u001b[0mkeras\u001b[0m\u001b[1;33m.\u001b[0m\u001b[0m__version__\u001b[0m\u001b[1;33m)\u001b[0m\u001b[1;33m\u001b[0m\u001b[1;33m\u001b[0m\u001b[0m\n\u001b[0m",
      "\u001b[1;31mNameError\u001b[0m: name 'keras' is not defined"
     ]
    }
   ],
   "source": [
    "print(keras.__version__)"
   ]
  },
  {
   "cell_type": "code",
   "execution_count": null,
   "metadata": {
    "colab": {},
    "colab_type": "code",
    "id": "8R80YnyjZRDh"
   },
   "outputs": [],
   "source": []
  },
  {
   "cell_type": "code",
   "execution_count": 16,
   "metadata": {
    "colab": {},
    "colab_type": "code",
    "id": "jXyoYEyWQM7Z"
   },
   "outputs": [
    {
     "name": "stderr",
     "output_type": "stream",
     "text": [
      "Using TensorFlow backend.\n"
     ]
    }
   ],
   "source": [
    "import tensorflow as tf\n",
    "import datetime, os\n",
    "import keras\n",
    "from keras import datasets, layers, models\n",
    "from keras.callbacks import ModelCheckpoint\n",
    "from keras.models import load_model\n",
    "np.random.seed(1337)          # to get reproducible results"
   ]
  },
  {
   "cell_type": "code",
   "execution_count": 17,
   "metadata": {
    "colab": {},
    "colab_type": "code",
    "id": "QZck25m3inAz"
   },
   "outputs": [],
   "source": [
    "# Number of neurons in each hidden layer\n",
    "BAND = b\n",
    "BATCH_SIZE = 100\n",
    "LEARNING_RATE = 0.01\n",
    "CONV_1_CHANNELS = 500\n",
    "CONV_2_CHANNELS = 100\n",
    "FC_1_UNITS = 200\n",
    "FC_2_UNITS = 84\n",
    "FC_3_UNITS = 7\n",
    "\n",
    "#Kernel Sizes\n",
    "CONV_K_S = 5\n",
    "POOL_K_S = 2\n",
    "\n",
    "STRIDES = 2"
   ]
  },
  {
   "cell_type": "code",
   "execution_count": 18,
   "metadata": {
    "colab": {
     "base_uri": "https://localhost:8080/",
     "height": 153
    },
    "colab_type": "code",
    "executionInfo": {
     "elapsed": 1903,
     "status": "ok",
     "timestamp": 1579520003502,
     "user": {
      "displayName": "Akshay Poriya",
      "photoUrl": "https://lh3.googleusercontent.com/a-/AAuE7mDyEDspLiJAqrTnq2rZ60e5eDcPeJamOb5sT7-kYw=s64",
      "userId": "00395078934869062099"
     },
     "user_tz": -330
    },
    "id": "RPfvPXFAQNcR",
    "outputId": "60fda309-4e96-47e1-edc9-7274221203cc"
   },
   "outputs": [
    {
     "name": "stdout",
     "output_type": "stream",
     "text": [
      "WARNING:tensorflow:From C:\\ProgramData\\Anaconda3\\lib\\site-packages\\keras\\backend\\tensorflow_backend.py:74: The name tf.get_default_graph is deprecated. Please use tf.compat.v1.get_default_graph instead.\n",
      "\n",
      "WARNING:tensorflow:From C:\\ProgramData\\Anaconda3\\lib\\site-packages\\keras\\backend\\tensorflow_backend.py:517: The name tf.placeholder is deprecated. Please use tf.compat.v1.placeholder instead.\n",
      "\n",
      "WARNING:tensorflow:From C:\\ProgramData\\Anaconda3\\lib\\site-packages\\keras\\backend\\tensorflow_backend.py:4138: The name tf.random_uniform is deprecated. Please use tf.random.uniform instead.\n",
      "\n",
      "WARNING:tensorflow:From C:\\ProgramData\\Anaconda3\\lib\\site-packages\\keras\\backend\\tensorflow_backend.py:3976: The name tf.nn.max_pool is deprecated. Please use tf.nn.max_pool2d instead.\n",
      "\n"
     ]
    }
   ],
   "source": [
    "model = models.Sequential()\n",
    "model.add(layers.Conv2D(filters = CONV_1_CHANNELS, kernel_size = CONV_K_S , activation='relu', input_shape=(P_S, P_S, BAND), strides = STRIDES, padding = 'same'))\n",
    "model.add(layers.MaxPooling2D(pool_size = POOL_K_S, padding = 'same', strides = STRIDES))\n",
    "model.add(layers.Conv2D(filters = CONV_2_CHANNELS, kernel_size = CONV_K_S , activation='relu',strides = STRIDES, padding = 'same'))\n",
    "model.add(layers.MaxPooling2D(pool_size = POOL_K_S, padding = 'same', strides = STRIDES))\n",
    "model.add(layers.Flatten())\n",
    "model.add(layers.Dense(FC_1_UNITS, activation='relu'))\n",
    "model.add(layers.Dense(FC_2_UNITS, activation='relu'))\n",
    "model.add(layers.Dense(FC_3_UNITS, activation='softmax'))"
   ]
  },
  {
   "cell_type": "code",
   "execution_count": 19,
   "metadata": {
    "colab": {},
    "colab_type": "code",
    "id": "Yo4QGEJ0SuJE"
   },
   "outputs": [
    {
     "name": "stdout",
     "output_type": "stream",
     "text": [
      "WARNING:tensorflow:From C:\\ProgramData\\Anaconda3\\lib\\site-packages\\keras\\optimizers.py:790: The name tf.train.Optimizer is deprecated. Please use tf.compat.v1.train.Optimizer instead.\n",
      "\n",
      "WARNING:tensorflow:From C:\\ProgramData\\Anaconda3\\lib\\site-packages\\keras\\backend\\tensorflow_backend.py:3341: The name tf.log is deprecated. Please use tf.math.log instead.\n",
      "\n"
     ]
    }
   ],
   "source": [
    "model.compile(optimizer=keras.optimizers.Adagrad(LEARNING_RATE),\n",
    "              loss='sparse_categorical_crossentropy',\n",
    "              metrics=['accuracy'])"
   ]
  },
  {
   "cell_type": "code",
   "execution_count": 20,
   "metadata": {
    "colab": {
     "base_uri": "https://localhost:8080/",
     "height": 425
    },
    "colab_type": "code",
    "executionInfo": {
     "elapsed": 4782,
     "status": "ok",
     "timestamp": 1578489988427,
     "user": {
      "displayName": "Akshay Poriya",
      "photoUrl": "https://lh3.googleusercontent.com/a-/AAuE7mDyEDspLiJAqrTnq2rZ60e5eDcPeJamOb5sT7-kYw=s64",
      "userId": "00395078934869062099"
     },
     "user_tz": -330
    },
    "id": "FRM8n9XhWB97",
    "outputId": "e0c30a79-623f-4da8-f020-c6f257c5d7be"
   },
   "outputs": [
    {
     "name": "stdout",
     "output_type": "stream",
     "text": [
      "_________________________________________________________________\n",
      "Layer (type)                 Output Shape              Param #   \n",
      "=================================================================\n",
      "conv2d_1 (Conv2D)            (None, 2, 2, 500)         2500500   \n",
      "_________________________________________________________________\n",
      "max_pooling2d_1 (MaxPooling2 (None, 1, 1, 500)         0         \n",
      "_________________________________________________________________\n",
      "conv2d_2 (Conv2D)            (None, 1, 1, 100)         1250100   \n",
      "_________________________________________________________________\n",
      "max_pooling2d_2 (MaxPooling2 (None, 1, 1, 100)         0         \n",
      "_________________________________________________________________\n",
      "flatten_1 (Flatten)          (None, 100)               0         \n",
      "_________________________________________________________________\n",
      "dense_1 (Dense)              (None, 200)               20200     \n",
      "_________________________________________________________________\n",
      "dense_2 (Dense)              (None, 84)                16884     \n",
      "_________________________________________________________________\n",
      "dense_3 (Dense)              (None, 7)                 595       \n",
      "=================================================================\n",
      "Total params: 3,788,279\n",
      "Trainable params: 3,788,279\n",
      "Non-trainable params: 0\n",
      "_________________________________________________________________\n"
     ]
    }
   ],
   "source": [
    "model.summary()"
   ]
  },
  {
   "cell_type": "code",
   "execution_count": null,
   "metadata": {
    "colab": {},
    "colab_type": "code",
    "id": "-RvoI12sWwdY"
   },
   "outputs": [],
   "source": []
  },
  {
   "cell_type": "code",
   "execution_count": null,
   "metadata": {
    "colab": {},
    "colab_type": "code",
    "id": "nC-XRoV-WwWo"
   },
   "outputs": [],
   "source": []
  },
  {
   "cell_type": "code",
   "execution_count": null,
   "metadata": {
    "colab": {},
    "colab_type": "code",
    "id": "45E74C1wWwRW"
   },
   "outputs": [],
   "source": []
  },
  {
   "cell_type": "code",
   "execution_count": 21,
   "metadata": {
    "colab": {},
    "colab_type": "code",
    "id": "qNjvVDpyquLM"
   },
   "outputs": [],
   "source": [
    "# To save Best Model\n",
    "import os\n",
    "filepath= \"LeNet_ps3.hdf5\"\n",
    "file_dir = os.path.dirname(filepath)\n",
    "checkpoint = ModelCheckpoint(filepath, monitor='val_acc', verbose=1, save_best_only=True, save_weights_only=False, mode='max')\n",
    "callbacks_list = [checkpoint]"
   ]
  },
  {
   "cell_type": "code",
   "execution_count": 22,
   "metadata": {
    "colab": {
     "base_uri": "https://localhost:8080/",
     "height": 1000
    },
    "colab_type": "code",
    "executionInfo": {
     "elapsed": 58002,
     "status": "error",
     "timestamp": 1578490041669,
     "user": {
      "displayName": "Akshay Poriya",
      "photoUrl": "https://lh3.googleusercontent.com/a-/AAuE7mDyEDspLiJAqrTnq2rZ60e5eDcPeJamOb5sT7-kYw=s64",
      "userId": "00395078934869062099"
     },
     "user_tz": -330
    },
    "id": "IPpKtrinWVLS",
    "outputId": "07eda1a9-463e-4f50-a54e-3164973ca512"
   },
   "outputs": [
    {
     "ename": "TypeError",
     "evalue": "Unrecognized keyword arguments: {'validation_freq': 1}",
     "output_type": "error",
     "traceback": [
      "\u001b[1;31m---------------------------------------------------------------------------\u001b[0m",
      "\u001b[1;31mTypeError\u001b[0m                                 Traceback (most recent call last)",
      "\u001b[1;32m<ipython-input-22-0908f26bc4a0>\u001b[0m in \u001b[0;36m<module>\u001b[1;34m\u001b[0m\n\u001b[1;32m----> 1\u001b[1;33m \u001b[0mhistory\u001b[0m \u001b[1;33m=\u001b[0m \u001b[0mmodel\u001b[0m\u001b[1;33m.\u001b[0m\u001b[0mfit\u001b[0m\u001b[1;33m(\u001b[0m\u001b[0mx\u001b[0m \u001b[1;33m=\u001b[0m \u001b[0mx_train\u001b[0m\u001b[1;33m,\u001b[0m \u001b[0my\u001b[0m \u001b[1;33m=\u001b[0m \u001b[0my_train\u001b[0m\u001b[1;33m,\u001b[0m \u001b[0mvalidation_data\u001b[0m \u001b[1;33m=\u001b[0m \u001b[1;33m(\u001b[0m\u001b[0mx_test\u001b[0m\u001b[1;33m,\u001b[0m\u001b[0my_test\u001b[0m\u001b[1;33m)\u001b[0m\u001b[1;33m,\u001b[0m \u001b[0mvalidation_freq\u001b[0m \u001b[1;33m=\u001b[0m \u001b[1;36m1\u001b[0m\u001b[1;33m,\u001b[0m \u001b[0mbatch_size\u001b[0m \u001b[1;33m=\u001b[0m \u001b[1;36m128\u001b[0m\u001b[1;33m,\u001b[0m\u001b[0mcallbacks\u001b[0m\u001b[1;33m=\u001b[0m\u001b[0mcallbacks_list\u001b[0m\u001b[1;33m,\u001b[0m \u001b[0mshuffle\u001b[0m \u001b[1;33m=\u001b[0m \u001b[1;32mFalse\u001b[0m\u001b[1;33m,\u001b[0m \u001b[0mepochs\u001b[0m\u001b[1;33m=\u001b[0m\u001b[1;36m2\u001b[0m\u001b[1;33m)\u001b[0m\u001b[1;33m\u001b[0m\u001b[1;33m\u001b[0m\u001b[0m\n\u001b[0m",
      "\u001b[1;32mC:\\ProgramData\\Anaconda3\\lib\\site-packages\\keras\\engine\\training.py\u001b[0m in \u001b[0;36mfit\u001b[1;34m(self, x, y, batch_size, epochs, verbose, callbacks, validation_split, validation_data, shuffle, class_weight, sample_weight, initial_epoch, steps_per_epoch, validation_steps, **kwargs)\u001b[0m\n\u001b[0;32m    940\u001b[0m             \u001b[0mepochs\u001b[0m \u001b[1;33m=\u001b[0m \u001b[0mkwargs\u001b[0m\u001b[1;33m.\u001b[0m\u001b[0mpop\u001b[0m\u001b[1;33m(\u001b[0m\u001b[1;34m'nb_epoch'\u001b[0m\u001b[1;33m)\u001b[0m\u001b[1;33m\u001b[0m\u001b[1;33m\u001b[0m\u001b[0m\n\u001b[0;32m    941\u001b[0m         \u001b[1;32mif\u001b[0m \u001b[0mkwargs\u001b[0m\u001b[1;33m:\u001b[0m\u001b[1;33m\u001b[0m\u001b[1;33m\u001b[0m\u001b[0m\n\u001b[1;32m--> 942\u001b[1;33m             \u001b[1;32mraise\u001b[0m \u001b[0mTypeError\u001b[0m\u001b[1;33m(\u001b[0m\u001b[1;34m'Unrecognized keyword arguments: '\u001b[0m \u001b[1;33m+\u001b[0m \u001b[0mstr\u001b[0m\u001b[1;33m(\u001b[0m\u001b[0mkwargs\u001b[0m\u001b[1;33m)\u001b[0m\u001b[1;33m)\u001b[0m\u001b[1;33m\u001b[0m\u001b[1;33m\u001b[0m\u001b[0m\n\u001b[0m\u001b[0;32m    943\u001b[0m         \u001b[1;32mif\u001b[0m \u001b[0mx\u001b[0m \u001b[1;32mis\u001b[0m \u001b[1;32mNone\u001b[0m \u001b[1;32mand\u001b[0m \u001b[0my\u001b[0m \u001b[1;32mis\u001b[0m \u001b[1;32mNone\u001b[0m \u001b[1;32mand\u001b[0m \u001b[0msteps_per_epoch\u001b[0m \u001b[1;32mis\u001b[0m \u001b[1;32mNone\u001b[0m\u001b[1;33m:\u001b[0m\u001b[1;33m\u001b[0m\u001b[1;33m\u001b[0m\u001b[0m\n\u001b[0;32m    944\u001b[0m             raise ValueError('If fitting from data tensors, '\n",
      "\u001b[1;31mTypeError\u001b[0m: Unrecognized keyword arguments: {'validation_freq': 1}"
     ]
    }
   ],
   "source": [
    "history = model.fit(x = x_train, y = y_train, validation_data = (x_test,y_test), validation_freq = 1, batch_size = 128,callbacks=callbacks_list, shuffle = False, epochs=2)"
   ]
  },
  {
   "cell_type": "code",
   "execution_count": null,
   "metadata": {
    "colab": {},
    "colab_type": "code",
    "id": "JOpbfVVIcjah"
   },
   "outputs": [],
   "source": [
    "model1 = load_model(filepath)"
   ]
  },
  {
   "cell_type": "code",
   "execution_count": null,
   "metadata": {
    "colab": {},
    "colab_type": "code",
    "id": "A_Z3us_5Wp2K"
   },
   "outputs": [],
   "source": [
    "test_loss, test_acc = model1.evaluate(x_test, y_test)\n",
    "print(test_acc)"
   ]
  },
  {
   "cell_type": "code",
   "execution_count": null,
   "metadata": {
    "colab": {},
    "colab_type": "code",
    "id": "Tx0EGnBFmy-R"
   },
   "outputs": [],
   "source": [
    "#Confusion matrix creation\n",
    "from sklearn.metrics import confusion_matrix\n",
    "from sklearn.metrics import accuracy_score\n",
    "from sklearn.metrics import classification_report"
   ]
  },
  {
   "cell_type": "code",
   "execution_count": null,
   "metadata": {
    "colab": {},
    "colab_type": "code",
    "id": "P99QyWcLm8ft"
   },
   "outputs": [],
   "source": [
    "y_pred = model1.predict(x_test)\n",
    "y_pred1 = np.zeros((y_pred.shape[0],1))\n",
    "\n",
    "for i in range(y_pred.shape[0]):\n",
    "  y_pred1[i] = np.argmax(y_pred[i])\n",
    "\n",
    "y_pred = y_pred1"
   ]
  },
  {
   "cell_type": "code",
   "execution_count": null,
   "metadata": {
    "colab": {},
    "colab_type": "code",
    "id": "ZGbs8gUVnTWn"
   },
   "outputs": [],
   "source": [
    "results = confusion_matrix(y_test,y_pred)\n",
    "print ('Confusion Matrix :')\n",
    "print(results) \n",
    "print ('Accuracy Score :',accuracy_score(y_test, y_pred)) \n",
    "print ('Report : ')\n",
    "print (classification_report(y_test, y_pred))"
   ]
  },
  {
   "cell_type": "code",
   "execution_count": null,
   "metadata": {
    "colab": {},
    "colab_type": "code",
    "id": "Phc4AcMRjKW5"
   },
   "outputs": [],
   "source": []
  },
  {
   "cell_type": "code",
   "execution_count": null,
   "metadata": {
    "colab": {},
    "colab_type": "code",
    "id": "oyOv8qUaYn-I"
   },
   "outputs": [],
   "source": [
    "acc = history.history['acc']\n",
    "val_acc = history.history['val_acc']\n",
    "\n",
    "loss = history.history['loss']\n",
    "val_loss = history.history['val_loss']\n",
    "\n",
    "plt.figure(figsize=(10, 10))\n",
    "plt.subplot(2, 2, 1)\n",
    "plt.plot(acc, label='Training Accuracy')\n",
    "#plt.plot(val_acc, label='Validation Accuracy')\n",
    "plt.legend(loc='lower right')\n",
    "plt.ylabel('Accuracy')\n",
    "plt.ylim([min(plt.ylim()),1])\n",
    "plt.title('Training Accuracy')\n",
    "\n",
    "plt.subplot(2, 2, 2)\n",
    "#plt.plot(acc, label='Training Accuracy')\n",
    "plt.plot(val_acc, label='Validation Accuracy')\n",
    "plt.legend(loc='lower right')\n",
    "plt.ylabel('Accuracy')\n",
    "plt.ylim([min(plt.ylim()),1])\n",
    "plt.title('Validation Accuracy')\n",
    "\n",
    "plt.subplot(2, 2, 3)\n",
    "plt.plot(loss, label='Training Loss')\n",
    "#plt.plot(val_loss, label='Validation Loss')\n",
    "plt.legend(loc='upper right')\n",
    "plt.ylabel('Cross Entropy')\n",
    "plt.ylim([0,1.0])\n",
    "plt.title('Training Loss')\n",
    "plt.xlabel('epoch')\n",
    "\n",
    "plt.subplot(2, 2, 4)\n",
    "#plt.plot(loss, label='Training Loss')\n",
    "plt.plot(val_loss, label='Validation Loss')\n",
    "plt.legend(loc='upper right')\n",
    "plt.ylabel('Cross Entropy')\n",
    "plt.ylim([0,1.0])\n",
    "plt.title('Validation Loss')\n",
    "plt.xlabel('epoch')\n",
    "\n",
    "plt.show()"
   ]
  },
  {
   "cell_type": "code",
   "execution_count": null,
   "metadata": {
    "colab": {},
    "colab_type": "code",
    "id": "c5lkfMjWikub"
   },
   "outputs": [],
   "source": []
  },
  {
   "cell_type": "code",
   "execution_count": null,
   "metadata": {
    "colab": {},
    "colab_type": "code",
    "id": "yS_Mnfviiv37"
   },
   "outputs": [],
   "source": [
    "# Function to extract patche at h_index,w_index \n",
    "\n",
    "def patch_at_index(h_index,w_index):\n",
    "  patch = padded_x[h_index:h_index+P_S,w_index:w_index+P_S,:]\n",
    "  patch = patch.reshape(P_S,P_S,b)\n",
    "  return patch"
   ]
  },
  {
   "cell_type": "code",
   "execution_count": null,
   "metadata": {
    "colab": {},
    "colab_type": "code",
    "id": "EnBzSbYIjKej"
   },
   "outputs": [],
   "source": [
    "y_hat = np.zeros((h,w),dtype=int)\n",
    "\n",
    "for i in range(h):\n",
    "  for j in range(w):\n",
    "    if(i%2==0 and j==0):\n",
    "      print(i)\n",
    "    patch = patch_at_index(i,j)\n",
    "    patch = np.array([patch])\n",
    "    y_hat[i][j] = np.argmax( model1.predict(patch) )+1"
   ]
  },
  {
   "cell_type": "code",
   "execution_count": null,
   "metadata": {
    "colab": {},
    "colab_type": "code",
    "id": "CpYJlvXxqFSk"
   },
   "outputs": [],
   "source": [
    "pip install spectral"
   ]
  },
  {
   "cell_type": "code",
   "execution_count": null,
   "metadata": {
    "colab": {},
    "colab_type": "code",
    "id": "wnnvEGQhqNfD"
   },
   "outputs": [],
   "source": [
    "import spectral\n",
    "spectral.imshow(classes = y,figsize=(10,10))\n",
    "spectral.imshow(classes = y_hat,figsize=(10,10))"
   ]
  },
  {
   "cell_type": "code",
   "execution_count": null,
   "metadata": {
    "colab": {},
    "colab_type": "code",
    "id": "w82tF3nD_dCq"
   },
   "outputs": [],
   "source": []
  }
 ],
 "metadata": {
  "accelerator": "GPU",
  "colab": {
   "collapsed_sections": [],
   "machine_shape": "hm",
   "name": "CNN_ps3.ipynb",
   "provenance": []
  },
  "kernelspec": {
   "display_name": "Python 3.6.9 64-bit ('base': conda)",
   "language": "python",
   "name": "python36964bitbaseconda9a160a0ac07c4d66b4bae98300d5197f"
  },
  "language_info": {
   "codemirror_mode": {
    "name": "ipython",
    "version": 3
   },
   "file_extension": ".py",
   "mimetype": "text/x-python",
   "name": "python",
   "nbconvert_exporter": "python",
   "pygments_lexer": "ipython3",
   "version": "3.6.9"
  }
 },
 "nbformat": 4,
 "nbformat_minor": 4
}
