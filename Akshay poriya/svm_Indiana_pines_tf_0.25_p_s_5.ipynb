{
 "cells": [
  {
   "cell_type": "code",
   "execution_count": 2,
   "metadata": {
    "colab": {
     "base_uri": "https://localhost:8080/",
     "height": 121
    },
    "colab_type": "code",
    "executionInfo": {
     "elapsed": 45339,
     "status": "ok",
     "timestamp": 1571683159132,
     "user": {
      "displayName": "Akshay Poriya",
      "photoUrl": "https://lh3.googleusercontent.com/a-/AAuE7mDyEDspLiJAqrTnq2rZ60e5eDcPeJamOb5sT7-kYw=s64",
      "userId": "00395078934869062099"
     },
     "user_tz": -330
    },
    "id": "TOT0Te3dqy6V",
    "outputId": "25cbd80c-cdd3-40ff-b8e7-b58256ba617d"
   },
   "outputs": [],
   "source": [
    "#from google.colab import drive\n",
    "#drive.mount('/content/drive')"
   ]
  },
  {
   "cell_type": "code",
   "execution_count": 3,
   "metadata": {
    "colab": {},
    "colab_type": "code",
    "id": "wXEsQzciq5MS"
   },
   "outputs": [],
   "source": [
    "import scipy.io as si         # for inputing matlab files\n",
    "import numpy as np            # Linear Algebra tools\n",
    "from random import shuffle    # for shuffling dataset\n",
    "import pandas as pd           # for csv files and dataframes\n",
    "import matplotlib.pyplot as plt  # for ploting graphs and curves"
   ]
  },
  {
   "cell_type": "code",
   "execution_count": 4,
   "metadata": {
    "colab": {},
    "colab_type": "code",
    "id": "0NInJE8rq_ld"
   },
   "outputs": [
    {
     "ename": "FileNotFoundError",
     "evalue": "[Errno 2] No such file or directory: '/content/drive/My Drive/Machine Learning Projects/Hyperspectral_Image_Classification_Project/Indian_Pines_Data/Indian_pines.mat'",
     "output_type": "error",
     "traceback": [
      "\u001b[1;31m---------------------------------------------------------------------------\u001b[0m",
      "\u001b[1;31mFileNotFoundError\u001b[0m                         Traceback (most recent call last)",
      "\u001b[1;32mC:\\ProgramData\\Anaconda3\\lib\\site-packages\\scipy\\io\\matlab\\mio.py\u001b[0m in \u001b[0;36m_open_file\u001b[1;34m(file_like, appendmat, mode)\u001b[0m\n\u001b[0;32m     38\u001b[0m     \u001b[1;32mtry\u001b[0m\u001b[1;33m:\u001b[0m\u001b[1;33m\u001b[0m\u001b[1;33m\u001b[0m\u001b[0m\n\u001b[1;32m---> 39\u001b[1;33m         \u001b[1;32mreturn\u001b[0m \u001b[0mopen\u001b[0m\u001b[1;33m(\u001b[0m\u001b[0mfile_like\u001b[0m\u001b[1;33m,\u001b[0m \u001b[0mmode\u001b[0m\u001b[1;33m)\u001b[0m\u001b[1;33m,\u001b[0m \u001b[1;32mTrue\u001b[0m\u001b[1;33m\u001b[0m\u001b[1;33m\u001b[0m\u001b[0m\n\u001b[0m\u001b[0;32m     40\u001b[0m     \u001b[1;32mexcept\u001b[0m \u001b[0mIOError\u001b[0m\u001b[1;33m:\u001b[0m\u001b[1;33m\u001b[0m\u001b[1;33m\u001b[0m\u001b[0m\n",
      "\u001b[1;31mFileNotFoundError\u001b[0m: [Errno 2] No such file or directory: '/content/drive/My Drive/Machine Learning Projects/Hyperspectral_Image_Classification_Project/Indian_Pines_Data/Indian_pines.mat'",
      "\nDuring handling of the above exception, another exception occurred:\n",
      "\u001b[1;31mFileNotFoundError\u001b[0m                         Traceback (most recent call last)",
      "\u001b[1;32m<ipython-input-4-611000637ba2>\u001b[0m in \u001b[0;36m<module>\u001b[1;34m\u001b[0m\n\u001b[1;32m----> 1\u001b[1;33m \u001b[0mmat_x\u001b[0m \u001b[1;33m=\u001b[0m \u001b[0msi\u001b[0m\u001b[1;33m.\u001b[0m\u001b[0mloadmat\u001b[0m\u001b[1;33m(\u001b[0m\u001b[1;34m'/content/drive/My Drive/Machine Learning Projects/Hyperspectral_Image_Classification_Project/Indian_Pines_Data/Indian_pines.mat'\u001b[0m\u001b[1;33m)\u001b[0m\u001b[1;33m[\u001b[0m\u001b[1;34m'indian_pines'\u001b[0m\u001b[1;33m]\u001b[0m        \u001b[1;31m# shape 145*145*220\u001b[0m\u001b[1;33m\u001b[0m\u001b[1;33m\u001b[0m\u001b[0m\n\u001b[0m\u001b[0;32m      2\u001b[0m \u001b[0mmat_y\u001b[0m \u001b[1;33m=\u001b[0m \u001b[0msi\u001b[0m\u001b[1;33m.\u001b[0m\u001b[0mloadmat\u001b[0m\u001b[1;33m(\u001b[0m\u001b[1;34m'/content/drive/My Drive/Machine Learning Projects/Hyperspectral_Image_Classification_Project/Indian_Pines_Data/Indian_pines_gt.mat'\u001b[0m\u001b[1;33m)\u001b[0m\u001b[1;33m[\u001b[0m\u001b[1;34m'indian_pines_gt'\u001b[0m\u001b[1;33m]\u001b[0m  \u001b[1;31m# shape 145*145\u001b[0m\u001b[1;33m\u001b[0m\u001b[1;33m\u001b[0m\u001b[0m\n",
      "\u001b[1;32mC:\\ProgramData\\Anaconda3\\lib\\site-packages\\scipy\\io\\matlab\\mio.py\u001b[0m in \u001b[0;36mloadmat\u001b[1;34m(file_name, mdict, appendmat, **kwargs)\u001b[0m\n\u001b[0;32m    214\u001b[0m     \"\"\"\n\u001b[0;32m    215\u001b[0m     \u001b[0mvariable_names\u001b[0m \u001b[1;33m=\u001b[0m \u001b[0mkwargs\u001b[0m\u001b[1;33m.\u001b[0m\u001b[0mpop\u001b[0m\u001b[1;33m(\u001b[0m\u001b[1;34m'variable_names'\u001b[0m\u001b[1;33m,\u001b[0m \u001b[1;32mNone\u001b[0m\u001b[1;33m)\u001b[0m\u001b[1;33m\u001b[0m\u001b[1;33m\u001b[0m\u001b[0m\n\u001b[1;32m--> 216\u001b[1;33m     \u001b[1;32mwith\u001b[0m \u001b[0m_open_file_context\u001b[0m\u001b[1;33m(\u001b[0m\u001b[0mfile_name\u001b[0m\u001b[1;33m,\u001b[0m \u001b[0mappendmat\u001b[0m\u001b[1;33m)\u001b[0m \u001b[1;32mas\u001b[0m \u001b[0mf\u001b[0m\u001b[1;33m:\u001b[0m\u001b[1;33m\u001b[0m\u001b[1;33m\u001b[0m\u001b[0m\n\u001b[0m\u001b[0;32m    217\u001b[0m         \u001b[0mMR\u001b[0m\u001b[1;33m,\u001b[0m \u001b[0m_\u001b[0m \u001b[1;33m=\u001b[0m \u001b[0mmat_reader_factory\u001b[0m\u001b[1;33m(\u001b[0m\u001b[0mf\u001b[0m\u001b[1;33m,\u001b[0m \u001b[1;33m**\u001b[0m\u001b[0mkwargs\u001b[0m\u001b[1;33m)\u001b[0m\u001b[1;33m\u001b[0m\u001b[1;33m\u001b[0m\u001b[0m\n\u001b[0;32m    218\u001b[0m         \u001b[0mmatfile_dict\u001b[0m \u001b[1;33m=\u001b[0m \u001b[0mMR\u001b[0m\u001b[1;33m.\u001b[0m\u001b[0mget_variables\u001b[0m\u001b[1;33m(\u001b[0m\u001b[0mvariable_names\u001b[0m\u001b[1;33m)\u001b[0m\u001b[1;33m\u001b[0m\u001b[1;33m\u001b[0m\u001b[0m\n",
      "\u001b[1;32mC:\\ProgramData\\Anaconda3\\lib\\contextlib.py\u001b[0m in \u001b[0;36m__enter__\u001b[1;34m(self)\u001b[0m\n\u001b[0;32m     79\u001b[0m     \u001b[1;32mdef\u001b[0m \u001b[0m__enter__\u001b[0m\u001b[1;33m(\u001b[0m\u001b[0mself\u001b[0m\u001b[1;33m)\u001b[0m\u001b[1;33m:\u001b[0m\u001b[1;33m\u001b[0m\u001b[1;33m\u001b[0m\u001b[0m\n\u001b[0;32m     80\u001b[0m         \u001b[1;32mtry\u001b[0m\u001b[1;33m:\u001b[0m\u001b[1;33m\u001b[0m\u001b[1;33m\u001b[0m\u001b[0m\n\u001b[1;32m---> 81\u001b[1;33m             \u001b[1;32mreturn\u001b[0m \u001b[0mnext\u001b[0m\u001b[1;33m(\u001b[0m\u001b[0mself\u001b[0m\u001b[1;33m.\u001b[0m\u001b[0mgen\u001b[0m\u001b[1;33m)\u001b[0m\u001b[1;33m\u001b[0m\u001b[1;33m\u001b[0m\u001b[0m\n\u001b[0m\u001b[0;32m     82\u001b[0m         \u001b[1;32mexcept\u001b[0m \u001b[0mStopIteration\u001b[0m\u001b[1;33m:\u001b[0m\u001b[1;33m\u001b[0m\u001b[1;33m\u001b[0m\u001b[0m\n\u001b[0;32m     83\u001b[0m             \u001b[1;32mraise\u001b[0m \u001b[0mRuntimeError\u001b[0m\u001b[1;33m(\u001b[0m\u001b[1;34m\"generator didn't yield\"\u001b[0m\u001b[1;33m)\u001b[0m \u001b[1;32mfrom\u001b[0m \u001b[1;32mNone\u001b[0m\u001b[1;33m\u001b[0m\u001b[1;33m\u001b[0m\u001b[0m\n",
      "\u001b[1;32mC:\\ProgramData\\Anaconda3\\lib\\site-packages\\scipy\\io\\matlab\\mio.py\u001b[0m in \u001b[0;36m_open_file_context\u001b[1;34m(file_like, appendmat, mode)\u001b[0m\n\u001b[0;32m     17\u001b[0m \u001b[1;33m@\u001b[0m\u001b[0mcontextmanager\u001b[0m\u001b[1;33m\u001b[0m\u001b[1;33m\u001b[0m\u001b[0m\n\u001b[0;32m     18\u001b[0m \u001b[1;32mdef\u001b[0m \u001b[0m_open_file_context\u001b[0m\u001b[1;33m(\u001b[0m\u001b[0mfile_like\u001b[0m\u001b[1;33m,\u001b[0m \u001b[0mappendmat\u001b[0m\u001b[1;33m,\u001b[0m \u001b[0mmode\u001b[0m\u001b[1;33m=\u001b[0m\u001b[1;34m'rb'\u001b[0m\u001b[1;33m)\u001b[0m\u001b[1;33m:\u001b[0m\u001b[1;33m\u001b[0m\u001b[1;33m\u001b[0m\u001b[0m\n\u001b[1;32m---> 19\u001b[1;33m     \u001b[0mf\u001b[0m\u001b[1;33m,\u001b[0m \u001b[0mopened\u001b[0m \u001b[1;33m=\u001b[0m \u001b[0m_open_file\u001b[0m\u001b[1;33m(\u001b[0m\u001b[0mfile_like\u001b[0m\u001b[1;33m,\u001b[0m \u001b[0mappendmat\u001b[0m\u001b[1;33m,\u001b[0m \u001b[0mmode\u001b[0m\u001b[1;33m)\u001b[0m\u001b[1;33m\u001b[0m\u001b[1;33m\u001b[0m\u001b[0m\n\u001b[0m\u001b[0;32m     20\u001b[0m     \u001b[1;32myield\u001b[0m \u001b[0mf\u001b[0m\u001b[1;33m\u001b[0m\u001b[1;33m\u001b[0m\u001b[0m\n\u001b[0;32m     21\u001b[0m     \u001b[1;32mif\u001b[0m \u001b[0mopened\u001b[0m\u001b[1;33m:\u001b[0m\u001b[1;33m\u001b[0m\u001b[1;33m\u001b[0m\u001b[0m\n",
      "\u001b[1;32mC:\\ProgramData\\Anaconda3\\lib\\site-packages\\scipy\\io\\matlab\\mio.py\u001b[0m in \u001b[0;36m_open_file\u001b[1;34m(file_like, appendmat, mode)\u001b[0m\n\u001b[0;32m     43\u001b[0m             \u001b[1;32mif\u001b[0m \u001b[0mappendmat\u001b[0m \u001b[1;32mand\u001b[0m \u001b[1;32mnot\u001b[0m \u001b[0mfile_like\u001b[0m\u001b[1;33m.\u001b[0m\u001b[0mendswith\u001b[0m\u001b[1;33m(\u001b[0m\u001b[1;34m'.mat'\u001b[0m\u001b[1;33m)\u001b[0m\u001b[1;33m:\u001b[0m\u001b[1;33m\u001b[0m\u001b[1;33m\u001b[0m\u001b[0m\n\u001b[0;32m     44\u001b[0m                 \u001b[0mfile_like\u001b[0m \u001b[1;33m+=\u001b[0m \u001b[1;34m'.mat'\u001b[0m\u001b[1;33m\u001b[0m\u001b[1;33m\u001b[0m\u001b[0m\n\u001b[1;32m---> 45\u001b[1;33m             \u001b[1;32mreturn\u001b[0m \u001b[0mopen\u001b[0m\u001b[1;33m(\u001b[0m\u001b[0mfile_like\u001b[0m\u001b[1;33m,\u001b[0m \u001b[0mmode\u001b[0m\u001b[1;33m)\u001b[0m\u001b[1;33m,\u001b[0m \u001b[1;32mTrue\u001b[0m\u001b[1;33m\u001b[0m\u001b[1;33m\u001b[0m\u001b[0m\n\u001b[0m\u001b[0;32m     46\u001b[0m         \u001b[1;32melse\u001b[0m\u001b[1;33m:\u001b[0m\u001b[1;33m\u001b[0m\u001b[1;33m\u001b[0m\u001b[0m\n\u001b[0;32m     47\u001b[0m             \u001b[1;32mraise\u001b[0m \u001b[0mIOError\u001b[0m\u001b[1;33m(\u001b[0m\u001b[1;34m'Reader needs file name or open file-like object'\u001b[0m\u001b[1;33m)\u001b[0m\u001b[1;33m\u001b[0m\u001b[1;33m\u001b[0m\u001b[0m\n",
      "\u001b[1;31mFileNotFoundError\u001b[0m: [Errno 2] No such file or directory: '/content/drive/My Drive/Machine Learning Projects/Hyperspectral_Image_Classification_Project/Indian_Pines_Data/Indian_pines.mat'"
     ]
    }
   ],
   "source": [
    "mat_x = si.loadmat('/content/drive/My Drive/Machine Learning Projects/Hyperspectral_Image_Classification_Project/Indian_Pines_Data/Indian_pines.mat')['indian_pines']        # shape 145*145*220\n",
    "mat_y = si.loadmat('/content/drive/My Drive/Machine Learning Projects/Hyperspectral_Image_Classification_Project/Indian_Pines_Data/Indian_pines_gt.mat')['indian_pines_gt']  # shape 145*145"
   ]
  },
  {
   "cell_type": "code",
   "execution_count": null,
   "metadata": {
    "colab": {},
    "colab_type": "code",
    "id": "2aedTduXupRN"
   },
   "outputs": [],
   "source": [
    "h, w, b = 145, 145, 220           # height,width and band of image\n",
    "P_S = 5                           # patch size (window size)\n",
    "oversampling = False              # Turn true to make distribution of samples across various classes to be uniform\n",
    "no_of_patch = 2000                # if oversampling is true enter no of patches for each class"
   ]
  },
  {
   "cell_type": "code",
   "execution_count": null,
   "metadata": {
    "colab": {},
    "colab_type": "code",
    "id": "uWfu_GnevGIn"
   },
   "outputs": [],
   "source": [
    "x_np, y_np = np.array(mat_x), np.array(mat_y)\n",
    "x, y = x_np.reshape(h,w,b), y_np.reshape(h,w)"
   ]
  },
  {
   "cell_type": "code",
   "execution_count": null,
   "metadata": {
    "colab": {},
    "colab_type": "code",
    "id": "i9mROX83vWwH"
   },
   "outputs": [],
   "source": [
    "x = x.astype('float')\n",
    "for i in range(b):\n",
    "  x[:,:,i] /= np.max(x[:,:,i])"
   ]
  },
  {
   "cell_type": "code",
   "execution_count": null,
   "metadata": {
    "colab": {},
    "colab_type": "code",
    "id": "LcaB2GBFvI2G"
   },
   "outputs": [],
   "source": [
    "pad_width = int( (P_S-1)/2 )\n",
    "padded_x = np.pad(x,[(pad_width,pad_width),(pad_width,pad_width),(0,0)],'edge')"
   ]
  },
  {
   "cell_type": "code",
   "execution_count": null,
   "metadata": {
    "colab": {},
    "colab_type": "code",
    "id": "aPUrDvTSvuwP"
   },
   "outputs": [],
   "source": [
    "X,Y = [],[]\n",
    "for i in range(h):\n",
    "  for j in range(w):\n",
    "    if(y[i][j]!= 0):\n",
    "      patch = padded_x[i:i+P_S,j:j+P_S,:]\n",
    "      X.append(patch)\n",
    "      Y.append(y[i][j]-1)"
   ]
  },
  {
   "cell_type": "code",
   "execution_count": null,
   "metadata": {
    "colab": {},
    "colab_type": "code",
    "id": "BdQDLQ8qvxB5"
   },
   "outputs": [],
   "source": [
    "from sklearn.model_selection import train_test_split\n",
    "x_train, x_test, y_train, y_test = train_test_split( X, Y, test_size=0.25,stratify=Y)"
   ]
  },
  {
   "cell_type": "code",
   "execution_count": null,
   "metadata": {
    "colab": {
     "base_uri": "https://localhost:8080/",
     "height": 314
    },
    "colab_type": "code",
    "executionInfo": {
     "elapsed": 1787,
     "status": "ok",
     "timestamp": 1571683270101,
     "user": {
      "displayName": "Akshay Poriya",
      "photoUrl": "https://lh3.googleusercontent.com/a-/AAuE7mDyEDspLiJAqrTnq2rZ60e5eDcPeJamOb5sT7-kYw=s64",
      "userId": "00395078934869062099"
     },
     "user_tz": -330
    },
    "id": "sFz36be9vzT8",
    "outputId": "c5604bca-1d28-4cf6-ccde-3f8e494ebf8a"
   },
   "outputs": [],
   "source": [
    "u_c = np.unique(y_train,return_counts=True)\n",
    "print(u_c)\n",
    "plt.bar( u_c[0],u_c[1], align='center', alpha=0.5)\n",
    "plt.title('Distribution of samples before resampling')\n",
    "plt.show()"
   ]
  },
  {
   "cell_type": "code",
   "execution_count": null,
   "metadata": {
    "colab": {},
    "colab_type": "code",
    "id": "QeTn3dfSv09f"
   },
   "outputs": [],
   "source": [
    "output_classes = len(np.unique(y_np))-1\n",
    "if(oversampling):\n",
    "  classes = []\n",
    "  for i in range(output_classes):\n",
    "    classes.append([])\n",
    "  for i in range(len(y_train)):\n",
    "    classes[Y[i]].append(x_train[i])\n",
    "  for c in range(output_classes):\n",
    "    temp = classes[c]\n",
    "    for i in range( int( no_of_patch / len(classes[c]) ) ):\n",
    "      classes[c]+=temp\n",
    "    shuffle(classes[c])\n",
    "    classes[c] = classes[c][0:no_of_patch]\n",
    "  x_train,y_train = [],[]\n",
    "  for c in range(output_classes):\n",
    "    x_train.extend( classes[c] )\n",
    "    for i in range(len(classes[c])):\n",
    "      y_train.append(c)\n",
    "  randomize = np.arange(len(x_train))\n",
    "  np.random.shuffle(randomize)\n",
    "  x_train = [x_train[i] for i in randomize]\n",
    "  y_train = [y_train[i] for i in randomize]"
   ]
  },
  {
   "cell_type": "code",
   "execution_count": null,
   "metadata": {},
   "outputs": [],
   "source": [
    "print(x_train.shape)"
   ]
  },
  {
   "cell_type": "code",
   "execution_count": 14,
   "metadata": {
    "colab": {
     "base_uri": "https://localhost:8080/",
     "height": 314
    },
    "colab_type": "code",
    "executionInfo": {
     "elapsed": 1331,
     "status": "ok",
     "timestamp": 1571683270749,
     "user": {
      "displayName": "Akshay Poriya",
      "photoUrl": "https://lh3.googleusercontent.com/a-/AAuE7mDyEDspLiJAqrTnq2rZ60e5eDcPeJamOb5sT7-kYw=s64",
      "userId": "00395078934869062099"
     },
     "user_tz": -330
    },
    "id": "-InhDbx3v5iD",
    "outputId": "5644f005-5cf5-465a-9b09-e8d778043de6"
   },
   "outputs": [
    {
     "name": "stdout",
     "output_type": "stream",
     "text": [
      "(array([ 0,  1,  2,  3,  4,  5,  6,  7,  8,  9, 10, 11, 12, 13, 14, 15]), array([  35, 1071,  622,  178,  362,  547,   21,  358,   15,  729, 1841,\n",
      "        445,  154,  949,  289,   70]))\n"
     ]
    },
    {
     "data": {
      "image/png": "[encoded data removed]",
      "text/plain": [
       "<Figure size 432x288 with 1 Axes>"
      ]
     },
     "metadata": {
      "tags": []
     },
     "output_type": "display_data"
    }
   ],
   "source": [
    "u_c = np.unique(y_train,return_counts=True)\n",
    "print(u_c)\n",
    "plt.bar( u_c[0],u_c[1], align='center', alpha=0.5)\n",
    "plt.title('Distribution of samples after resampling')\n",
    "plt.show()"
   ]
  },
  {
   "cell_type": "code",
   "execution_count": null,
   "metadata": {
    "colab": {},
    "colab_type": "code",
    "id": "Gwm0szlEv7x9"
   },
   "outputs": [],
   "source": [
    "x_train,x_test,y_train,y_test = np.array(x_train),np.array(x_test),np.array(y_train),np.array(y_test)"
   ]
  },
  {
   "cell_type": "code",
   "execution_count": null,
   "metadata": {
    "colab": {},
    "colab_type": "code",
    "id": "IW58oZFkwJ6i"
   },
   "outputs": [],
   "source": [
    "patch1 = np.zeros((x_train.shape[0],P_S*P_S*b))\n",
    "patch2 = np.zeros((x_test.shape[0],P_S*P_S*b))\n",
    "\n",
    "for i in range(patch1.shape[0]):\n",
    "  patch1[i,:] = x_train[i,:,:,:].flatten('C')\n",
    "for i in range(patch2.shape[0]):\n",
    "  patch2[i,:] = x_test[i,:,:,:].flatten('C')\n",
    "\n",
    "x_train = patch1\n",
    "x_test  = patch2"
   ]
  },
  {
   "cell_type": "code",
   "execution_count": null,
   "metadata": {
    "colab": {},
    "colab_type": "code",
    "id": "HDJHxJUQwLco"
   },
   "outputs": [],
   "source": [
    "from sklearn.metrics import confusion_matrix\n",
    "from sklearn.metrics import accuracy_score\n",
    "from sklearn.metrics import classification_report\n",
    "from sklearn import svm\n",
    "import time"
   ]
  },
  {
   "cell_type": "code",
   "execution_count": null,
   "metadata": {
    "colab": {},
    "colab_type": "code",
    "id": "0f_BkATG1ICh"
   },
   "outputs": [],
   "source": []
  },
  {
   "cell_type": "markdown",
   "metadata": {
    "colab_type": "text",
    "id": "pvU4Yqb32mKi"
   },
   "source": [
    "**Best Model**"
   ]
  },
  {
   "cell_type": "code",
   "execution_count": null,
   "metadata": {
    "colab": {},
    "colab_type": "code",
    "id": "83M9PKup4Dmx"
   },
   "outputs": [],
   "source": [
    "sigma = 3\n",
    "gamma = 1/(2 * sigma**2)"
   ]
  },
  {
   "cell_type": "code",
   "execution_count": null,
   "metadata": {
    "colab": {},
    "colab_type": "code",
    "id": "vLQ78JiE4I0Q"
   },
   "outputs": [],
   "source": [
    "clf_best = svm.SVC(kernel='rbf', gamma=gamma, C=30, decision_function_shape='ovr')"
   ]
  },
  {
   "cell_type": "code",
   "execution_count": 23,
   "metadata": {
    "colab": {
     "base_uri": "https://localhost:8080/",
     "height": 84
    },
    "colab_type": "code",
    "executionInfo": {
     "elapsed": 182960,
     "status": "ok",
     "timestamp": 1571683528980,
     "user": {
      "displayName": "Akshay Poriya",
      "photoUrl": "https://lh3.googleusercontent.com/a-/AAuE7mDyEDspLiJAqrTnq2rZ60e5eDcPeJamOb5sT7-kYw=s64",
      "userId": "00395078934869062099"
     },
     "user_tz": -330
    },
    "id": "1J0SpSpo4LnA",
    "outputId": "c757f1e3-7724-4d6a-fe3f-dfd9a291447e"
   },
   "outputs": [
    {
     "data": {
      "text/plain": [
       "SVC(C=30, cache_size=200, class_weight=None, coef0=0.0,\n",
       "    decision_function_shape='ovr', degree=3, gamma=0.05555555555555555,\n",
       "    kernel='rbf', max_iter=-1, probability=False, random_state=None,\n",
       "    shrinking=True, tol=0.001, verbose=False)"
      ]
     },
     "execution_count": 23,
     "metadata": {
      "tags": []
     },
     "output_type": "execute_result"
    }
   ],
   "source": [
    "clf_best.fit(x_train, y_train)"
   ]
  },
  {
   "cell_type": "code",
   "execution_count": null,
   "metadata": {
    "colab": {},
    "colab_type": "code",
    "id": "QLZJ2ufr4N0s"
   },
   "outputs": [],
   "source": [
    "y_pred = clf_best.predict(x_test)"
   ]
  },
  {
   "cell_type": "code",
   "execution_count": 25,
   "metadata": {
    "colab": {
     "base_uri": "https://localhost:8080/",
     "height": 722
    },
    "colab_type": "code",
    "executionInfo": {
     "elapsed": 3070,
     "status": "ok",
     "timestamp": 1571683653774,
     "user": {
      "displayName": "Akshay Poriya",
      "photoUrl": "https://lh3.googleusercontent.com/a-/AAuE7mDyEDspLiJAqrTnq2rZ60e5eDcPeJamOb5sT7-kYw=s64",
      "userId": "00395078934869062099"
     },
     "user_tz": -330
    },
    "id": "foSRDKLBwgKQ",
    "outputId": "b466f6f7-d336-4073-e23c-072556d7e4b0"
   },
   "outputs": [
    {
     "name": "stdout",
     "output_type": "stream",
     "text": [
      "Confusion Matrix :\n",
      "[[ 10   0   0   0   1   0   0   0   0   0   0   0   0   0   0   0]\n",
      " [  0 351   0   0   0   0   0   0   0   6   0   0   0   0   0   0]\n",
      " [  0   1 202   0   0   0   0   0   0   0   3   2   0   0   0   0]\n",
      " [  0   0   0  59   0   0   0   0   0   0   0   0   0   0   0   0]\n",
      " [  0   0   0   0 121   0   0   0   0   0   0   0   0   0   0   0]\n",
      " [  0   0   0   0   0 183   0   0   0   0   0   0   0   0   0   0]\n",
      " [  0   0   0   0   0   0   7   0   0   0   0   0   0   0   0   0]\n",
      " [  0   0   0   0   0   0   0 120   0   0   0   0   0   0   0   0]\n",
      " [  0   0   0   0   0   0   0   0   5   0   0   0   0   0   0   0]\n",
      " [  0   1   1   0   0   0   0   0   0 241   0   0   0   0   0   0]\n",
      " [  0   3   1   0   0   0   0   0   0   1 609   0   0   0   0   0]\n",
      " [  0   0   0   0   0   0   0   0   0   0   0 148   0   0   0   0]\n",
      " [  0   0   0   0   0   0   0   0   0   0   0   0  51   0   0   0]\n",
      " [  0   0   0   0   0   0   0   0   0   0   0   0   0 315   1   0]\n",
      " [  0   0   0   0   0   0   0   0   0   0   0   0   0   1  96   0]\n",
      " [  0   0   0   0   0   0   0   0   0   0   0   0   0   0   0  23]]\n",
      "Accuracy Score : 0.9914163090128756\n",
      "Report : \n",
      "              precision    recall  f1-score   support\n",
      "\n",
      "           0       1.00      0.91      0.95        11\n",
      "           1       0.99      0.98      0.98       357\n",
      "           2       0.99      0.97      0.98       208\n",
      "           3       1.00      1.00      1.00        59\n",
      "           4       0.99      1.00      1.00       121\n",
      "           5       1.00      1.00      1.00       183\n",
      "           6       1.00      1.00      1.00         7\n",
      "           7       1.00      1.00      1.00       120\n",
      "           8       1.00      1.00      1.00         5\n",
      "           9       0.97      0.99      0.98       243\n",
      "          10       1.00      0.99      0.99       614\n",
      "          11       0.99      1.00      0.99       148\n",
      "          12       1.00      1.00      1.00        51\n",
      "          13       1.00      1.00      1.00       316\n",
      "          14       0.99      0.99      0.99        97\n",
      "          15       1.00      1.00      1.00        23\n",
      "\n",
      "    accuracy                           0.99      2563\n",
      "   macro avg       0.99      0.99      0.99      2563\n",
      "weighted avg       0.99      0.99      0.99      2563\n",
      "\n"
     ]
    }
   ],
   "source": [
    "results = confusion_matrix(y_test,y_pred)\n",
    "print ('Confusion Matrix :')\n",
    "print(results) \n",
    "print ('Accuracy Score :',accuracy_score(y_test, y_pred)) \n",
    "print ('Report : ')\n",
    "print (classification_report(y_test, y_pred))"
   ]
  },
  {
   "cell_type": "code",
   "execution_count": null,
   "metadata": {
    "colab": {},
    "colab_type": "code",
    "id": "CfNdHWiFzIL2"
   },
   "outputs": [],
   "source": []
  },
  {
   "cell_type": "code",
   "execution_count": null,
   "metadata": {
    "colab": {},
    "colab_type": "code",
    "id": "kXRt87KG0Pdg"
   },
   "outputs": [],
   "source": []
  },
  {
   "cell_type": "markdown",
   "metadata": {
    "colab_type": "text",
    "id": "Pv-8Z7Hc0Scz"
   },
   "source": [
    "**Classified Image**"
   ]
  },
  {
   "cell_type": "code",
   "execution_count": null,
   "metadata": {
    "colab": {},
    "colab_type": "code",
    "id": "NR4wi9mz0TN0"
   },
   "outputs": [],
   "source": [
    "# Function to extract patche at h_index,w_index \n",
    "\n",
    "def patch_at_index(h_index,w_index):\n",
    "  patch = padded_x[h_index:h_index+P_S,w_index:w_index+P_S,:]\n",
    "  patch = patch.flatten('C')\n",
    "  patch = patch.reshape(1,patch.shape[0])\n",
    "  return patch"
   ]
  },
  {
   "cell_type": "code",
   "execution_count": 27,
   "metadata": {
    "colab": {
     "base_uri": "https://localhost:8080/",
     "height": 1000
    },
    "colab_type": "code",
    "executionInfo": {
     "elapsed": 764964,
     "status": "ok",
     "timestamp": 1571684522186,
     "user": {
      "displayName": "Akshay Poriya",
      "photoUrl": "https://lh3.googleusercontent.com/a-/AAuE7mDyEDspLiJAqrTnq2rZ60e5eDcPeJamOb5sT7-kYw=s64",
      "userId": "00395078934869062099"
     },
     "user_tz": -330
    },
    "id": "ixdBRWYG0YWk",
    "outputId": "a5c9e5bf-0378-49dc-ea75-5d2019a45a23"
   },
   "outputs": [
    {
     "name": "stdout",
     "output_type": "stream",
     "text": [
      "0\n",
      "2\n",
      "4\n",
      "6\n",
      "8\n",
      "10\n",
      "12\n",
      "14\n",
      "16\n",
      "18\n",
      "20\n",
      "22\n",
      "24\n",
      "26\n",
      "28\n",
      "30\n",
      "32\n",
      "34\n",
      "36\n",
      "38\n",
      "40\n",
      "42\n",
      "44\n",
      "46\n",
      "48\n",
      "50\n",
      "52\n",
      "54\n",
      "56\n",
      "58\n",
      "60\n",
      "62\n",
      "64\n",
      "66\n",
      "68\n",
      "70\n",
      "72\n",
      "74\n",
      "76\n",
      "78\n",
      "80\n",
      "82\n",
      "84\n",
      "86\n",
      "88\n",
      "90\n",
      "92\n",
      "94\n",
      "96\n",
      "98\n",
      "100\n",
      "102\n",
      "104\n",
      "106\n",
      "108\n",
      "110\n",
      "112\n",
      "114\n",
      "116\n",
      "118\n",
      "120\n",
      "122\n",
      "124\n",
      "126\n",
      "128\n",
      "130\n",
      "132\n",
      "134\n",
      "136\n",
      "138\n",
      "140\n",
      "142\n",
      "144\n"
     ]
    }
   ],
   "source": [
    "y_hat = np.zeros((h,w),dtype=int)\n",
    "\n",
    "for i in range(h):\n",
    "  for j in range(w):\n",
    "    if(i%2==0 and j==0):\n",
    "      print(i)\n",
    "    patch = patch_at_index(i,j)\n",
    "    y_hat[i][j] =  clf_best.predict(patch) +1"
   ]
  },
  {
   "cell_type": "code",
   "execution_count": 28,
   "metadata": {
    "colab": {
     "base_uri": "https://localhost:8080/",
     "height": 50
    },
    "colab_type": "code",
    "executionInfo": {
     "elapsed": 4913,
     "status": "ok",
     "timestamp": 1571684578062,
     "user": {
      "displayName": "Akshay Poriya",
      "photoUrl": "https://lh3.googleusercontent.com/a-/AAuE7mDyEDspLiJAqrTnq2rZ60e5eDcPeJamOb5sT7-kYw=s64",
      "userId": "00395078934869062099"
     },
     "user_tz": -330
    },
    "id": "drxnTYhV0ZLZ",
    "outputId": "0f8b87be-5e60-4c77-8689-8f185c64d711"
   },
   "outputs": [
    {
     "name": "stdout",
     "output_type": "stream",
     "text": [
      "Requirement already satisfied: spectral in /usr/local/lib/python3.6/dist-packages (0.20)\n",
      "Requirement already satisfied: numpy in /usr/local/lib/python3.6/dist-packages (from spectral) (1.16.5)\n"
     ]
    }
   ],
   "source": [
    "!pip install spectral"
   ]
  },
  {
   "cell_type": "code",
   "execution_count": 36,
   "metadata": {
    "colab": {
     "base_uri": "https://localhost:8080/",
     "height": 1000
    },
    "colab_type": "code",
    "executionInfo": {
     "elapsed": 2120,
     "status": "ok",
     "timestamp": 1571684785241,
     "user": {
      "displayName": "Akshay Poriya",
      "photoUrl": "https://lh3.googleusercontent.com/a-/AAuE7mDyEDspLiJAqrTnq2rZ60e5eDcPeJamOb5sT7-kYw=s64",
      "userId": "00395078934869062099"
     },
     "user_tz": -330
    },
    "id": "tqcHNzEt0fr2",
    "outputId": "258e5f5c-8383-465d-a1ae-ca66c9094b30"
   },
   "outputs": [
    {
     "data": {
      "text/plain": [
       "ImageView object:\n",
       "  Interpolation       :  <default>"
      ]
     },
     "execution_count": 36,
     "metadata": {
      "tags": []
     },
     "output_type": "execute_result"
    },
    {
     "data": {
      "image/png": "[encoded data removed]",
      "text/plain": [
       "<Figure size 720x720 with 1 Axes>"
      ]
     },
     "metadata": {
      "tags": []
     },
     "output_type": "display_data"
    },
    {
     "data": {
      "image/png": "[encoded data removed]",
      "text/plain": [
       "<Figure size 720x720 with 1 Axes>"
      ]
     },
     "metadata": {
      "tags": []
     },
     "output_type": "display_data"
    }
   ],
   "source": [
    "import spectral\n",
    "spectral.imshow(classes = y,figsize=(10,10))\n",
    "spectral.imshow(classes = y_hat,figsize=(10,10))"
   ]
  },
  {
   "cell_type": "code",
   "execution_count": null,
   "metadata": {
    "colab": {},
    "colab_type": "code",
    "id": "UKKZGO850ula"
   },
   "outputs": [],
   "source": []
  }
 ],
 "metadata": {
  "accelerator": "GPU",
  "colab": {
   "collapsed_sections": [],
   "name": "svm_Indiana_pines_tf_0.25_p_s_5.ipynb",
   "provenance": []
  },
  "kernelspec": {
   "display_name": "Python 3",
   "language": "python",
   "name": "python3"
  },
  "language_info": {
   "codemirror_mode": {
    "name": "ipython",
    "version": 3
   },
   "file_extension": ".py",
   "mimetype": "text/x-python",
   "name": "python",
   "nbconvert_exporter": "python",
   "pygments_lexer": "ipython3",
   "version": "3.6.9"
  }
 },
 "nbformat": 4,
 "nbformat_minor": 4
}
